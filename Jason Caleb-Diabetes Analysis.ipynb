{
 "cells": [
  {
   "cell_type": "markdown",
   "id": "57fb08d0",
   "metadata": {},
   "source": [
    "# Import Libraries"
   ]
  },
  {
   "cell_type": "code",
   "execution_count": 1,
   "id": "eadfd35f",
   "metadata": {},
   "outputs": [],
   "source": [
    "from numpy import isnan\n",
    "from numpy import mean\n",
    "from numpy import std\n",
    "from sklearn.experimental import enable_iterative_imputer\n",
    "from sklearn.ensemble import RandomForestClassifier\n",
    "from sklearn.feature_selection import chi2\n",
    "from sklearn.feature_selection import f_classif\n",
    "from sklearn.feature_selection import mutual_info_classif\n",
    "from sklearn.feature_selection import SelectKBest\n",
    "from sklearn.impute import IterativeImputer\n",
    "from sklearn.impute import KNNImputer\n",
    "from sklearn.impute import SimpleImputer\n",
    "from sklearn.linear_model import LogisticRegression\n",
    "from sklearn.metrics import accuracy_score\n",
    "from sklearn.model_selection import cross_val_score\n",
    "from sklearn.model_selection import RepeatedStratifiedKFold\n",
    "from sklearn.model_selection import train_test_split\n",
    "from sklearn.pipeline import Pipeline\n",
    "import math\n",
    "import matplotlib.pyplot as plt\n",
    "import numpy as np\n",
    "import pandas as pd\n",
    "import random as rd\n",
    "import seaborn as sns"
   ]
  },
  {
   "cell_type": "markdown",
   "id": "c9119fd6",
   "metadata": {},
   "source": [
    "code below is used to change the width of your jupyter display\n",
    "<br>\n",
    "<br>\n",
    "In case you want to revert it back, then you can just cut the cell below"
   ]
  },
  {
   "cell_type": "code",
   "execution_count": 2,
   "id": "34214d0b",
   "metadata": {},
   "outputs": [],
   "source": [
    "# https://stackoverflow.com/questions/63777194/how-to-increase-jupyter-notebook-lab-cell-widths-when-outputting-to-html\n",
    "from IPython.core.display import display, HTML\n",
    "display(HTML(\"<style>.container { width:100% !important; }</style>\"))"
   ]
  },
  {
   "cell_type": "markdown",
   "id": "d4b07178",
   "metadata": {},
   "source": [
    "Install \"imbalanced-learn\" which we will use to handle imbalance classes problem of this data"
   ]
  },
  {
   "cell_type": "code",
   "execution_count": 3,
   "id": "2c90abbd",
   "metadata": {},
   "outputs": [
    {
     "name": "stdout",
     "output_type": "stream",
     "text": [
      "Requirement already satisfied: imbalanced-learn in c:\\users\\jason caleb\\appdata\\local\\programs\\python\\python310\\lib\\site-packages (0.9.1)\n",
      "Requirement already satisfied: joblib>=1.0.0 in c:\\users\\jason caleb\\appdata\\local\\programs\\python\\python310\\lib\\site-packages (from imbalanced-learn) (1.1.0)\n",
      "Requirement already satisfied: scipy>=1.3.2 in c:\\users\\jason caleb\\appdata\\local\\programs\\python\\python310\\lib\\site-packages (from imbalanced-learn) (1.9.1)\n",
      "Requirement already satisfied: threadpoolctl>=2.0.0 in c:\\users\\jason caleb\\appdata\\local\\programs\\python\\python310\\lib\\site-packages (from imbalanced-learn) (3.1.0)\n",
      "Requirement already satisfied: scikit-learn>=1.1.0 in c:\\users\\jason caleb\\appdata\\local\\programs\\python\\python310\\lib\\site-packages (from imbalanced-learn) (1.1.2)\n",
      "Requirement already satisfied: numpy>=1.17.3 in c:\\users\\jason caleb\\appdata\\local\\programs\\python\\python310\\lib\\site-packages (from imbalanced-learn) (1.23.0)\n"
     ]
    },
    {
     "name": "stderr",
     "output_type": "stream",
     "text": [
      "WARNING: You are using pip version 22.0.4; however, version 22.3 is available.\n",
      "You should consider upgrading via the 'C:\\Users\\Jason Caleb\\AppData\\Local\\Programs\\Python\\Python310\\python.exe -m pip install --upgrade pip' command.\n"
     ]
    }
   ],
   "source": [
    "! pip install -U imbalanced-learn"
   ]
  },
  {
   "cell_type": "markdown",
   "id": "d4ad9c79",
   "metadata": {},
   "source": [
    "# Import Dataset"
   ]
  },
  {
   "cell_type": "markdown",
   "id": "2903d8b1",
   "metadata": {},
   "source": [
    "diabetes_012_health_indicators_BRFSS2015.csv is a clean dataset of 253,680 survey responses to the CDC's BRFSS2015. The target variable Diabetes_012 has 3 classes. 0 is for no diabetes or only during pregnancy, 1 is for prediabetes, and 2 is for diabetes. There is class imbalance in this dataset. This dataset has 21 feature variables"
   ]
  },
  {
   "cell_type": "code",
   "execution_count": 36,
   "id": "2c3cba2e",
   "metadata": {},
   "outputs": [
    {
     "data": {
      "text/plain": [
       "Index(['Diabetes_012', 'HighBP', 'HighChol', 'CholCheck', 'BMI', 'Smoker',\n",
       "       'Stroke', 'HeartDiseaseorAttack', 'PhysActivity', 'Fruits', 'Veggies',\n",
       "       'HvyAlcoholConsump', 'AnyHealthcare', 'NoDocbcCost', 'GenHlth',\n",
       "       'DiffWalk', 'Sex', 'Age', 'Education', 'Income'],\n",
       "      dtype='object')"
      ]
     },
     "execution_count": 36,
     "metadata": {},
     "output_type": "execute_result"
    }
   ],
   "source": [
    "df.columns"
   ]
  },
  {
   "cell_type": "code",
   "execution_count": 4,
   "id": "63aab6ae",
   "metadata": {
    "scrolled": true
   },
   "outputs": [
    {
     "data": {
      "text/html": [
       "<div>\n",
       "<style scoped>\n",
       "    .dataframe tbody tr th:only-of-type {\n",
       "        vertical-align: middle;\n",
       "    }\n",
       "\n",
       "    .dataframe tbody tr th {\n",
       "        vertical-align: top;\n",
       "    }\n",
       "\n",
       "    .dataframe thead th {\n",
       "        text-align: right;\n",
       "    }\n",
       "</style>\n",
       "<table border=\"1\" class=\"dataframe\">\n",
       "  <thead>\n",
       "    <tr style=\"text-align: right;\">\n",
       "      <th></th>\n",
       "      <th>Diabetes_012</th>\n",
       "      <th>HighBP</th>\n",
       "      <th>HighChol</th>\n",
       "      <th>CholCheck</th>\n",
       "      <th>BMI</th>\n",
       "      <th>Smoker</th>\n",
       "      <th>Stroke</th>\n",
       "      <th>HeartDiseaseorAttack</th>\n",
       "      <th>PhysActivity</th>\n",
       "      <th>Fruits</th>\n",
       "      <th>...</th>\n",
       "      <th>AnyHealthcare</th>\n",
       "      <th>NoDocbcCost</th>\n",
       "      <th>GenHlth</th>\n",
       "      <th>MentHlth</th>\n",
       "      <th>PhysHlth</th>\n",
       "      <th>DiffWalk</th>\n",
       "      <th>Sex</th>\n",
       "      <th>Age</th>\n",
       "      <th>Education</th>\n",
       "      <th>Income</th>\n",
       "    </tr>\n",
       "  </thead>\n",
       "  <tbody>\n",
       "    <tr>\n",
       "      <th>0</th>\n",
       "      <td>0.0</td>\n",
       "      <td>1.0</td>\n",
       "      <td>1.0</td>\n",
       "      <td>1.0</td>\n",
       "      <td>40.0</td>\n",
       "      <td>1.0</td>\n",
       "      <td>0.0</td>\n",
       "      <td>0.0</td>\n",
       "      <td>0.0</td>\n",
       "      <td>0.0</td>\n",
       "      <td>...</td>\n",
       "      <td>1.0</td>\n",
       "      <td>0.0</td>\n",
       "      <td>5.0</td>\n",
       "      <td>18.0</td>\n",
       "      <td>15.0</td>\n",
       "      <td>1.0</td>\n",
       "      <td>0.0</td>\n",
       "      <td>9.0</td>\n",
       "      <td>4.0</td>\n",
       "      <td>3.0</td>\n",
       "    </tr>\n",
       "    <tr>\n",
       "      <th>1</th>\n",
       "      <td>0.0</td>\n",
       "      <td>0.0</td>\n",
       "      <td>0.0</td>\n",
       "      <td>0.0</td>\n",
       "      <td>25.0</td>\n",
       "      <td>1.0</td>\n",
       "      <td>0.0</td>\n",
       "      <td>0.0</td>\n",
       "      <td>1.0</td>\n",
       "      <td>0.0</td>\n",
       "      <td>...</td>\n",
       "      <td>0.0</td>\n",
       "      <td>1.0</td>\n",
       "      <td>3.0</td>\n",
       "      <td>0.0</td>\n",
       "      <td>0.0</td>\n",
       "      <td>0.0</td>\n",
       "      <td>0.0</td>\n",
       "      <td>7.0</td>\n",
       "      <td>6.0</td>\n",
       "      <td>1.0</td>\n",
       "    </tr>\n",
       "    <tr>\n",
       "      <th>2</th>\n",
       "      <td>0.0</td>\n",
       "      <td>1.0</td>\n",
       "      <td>1.0</td>\n",
       "      <td>1.0</td>\n",
       "      <td>28.0</td>\n",
       "      <td>0.0</td>\n",
       "      <td>0.0</td>\n",
       "      <td>0.0</td>\n",
       "      <td>0.0</td>\n",
       "      <td>1.0</td>\n",
       "      <td>...</td>\n",
       "      <td>1.0</td>\n",
       "      <td>1.0</td>\n",
       "      <td>5.0</td>\n",
       "      <td>30.0</td>\n",
       "      <td>30.0</td>\n",
       "      <td>1.0</td>\n",
       "      <td>0.0</td>\n",
       "      <td>9.0</td>\n",
       "      <td>4.0</td>\n",
       "      <td>8.0</td>\n",
       "    </tr>\n",
       "    <tr>\n",
       "      <th>3</th>\n",
       "      <td>0.0</td>\n",
       "      <td>1.0</td>\n",
       "      <td>0.0</td>\n",
       "      <td>1.0</td>\n",
       "      <td>27.0</td>\n",
       "      <td>0.0</td>\n",
       "      <td>0.0</td>\n",
       "      <td>0.0</td>\n",
       "      <td>1.0</td>\n",
       "      <td>1.0</td>\n",
       "      <td>...</td>\n",
       "      <td>1.0</td>\n",
       "      <td>0.0</td>\n",
       "      <td>2.0</td>\n",
       "      <td>0.0</td>\n",
       "      <td>0.0</td>\n",
       "      <td>0.0</td>\n",
       "      <td>0.0</td>\n",
       "      <td>11.0</td>\n",
       "      <td>3.0</td>\n",
       "      <td>6.0</td>\n",
       "    </tr>\n",
       "    <tr>\n",
       "      <th>4</th>\n",
       "      <td>0.0</td>\n",
       "      <td>1.0</td>\n",
       "      <td>1.0</td>\n",
       "      <td>1.0</td>\n",
       "      <td>24.0</td>\n",
       "      <td>0.0</td>\n",
       "      <td>0.0</td>\n",
       "      <td>0.0</td>\n",
       "      <td>1.0</td>\n",
       "      <td>1.0</td>\n",
       "      <td>...</td>\n",
       "      <td>1.0</td>\n",
       "      <td>0.0</td>\n",
       "      <td>2.0</td>\n",
       "      <td>3.0</td>\n",
       "      <td>0.0</td>\n",
       "      <td>0.0</td>\n",
       "      <td>0.0</td>\n",
       "      <td>11.0</td>\n",
       "      <td>5.0</td>\n",
       "      <td>4.0</td>\n",
       "    </tr>\n",
       "    <tr>\n",
       "      <th>...</th>\n",
       "      <td>...</td>\n",
       "      <td>...</td>\n",
       "      <td>...</td>\n",
       "      <td>...</td>\n",
       "      <td>...</td>\n",
       "      <td>...</td>\n",
       "      <td>...</td>\n",
       "      <td>...</td>\n",
       "      <td>...</td>\n",
       "      <td>...</td>\n",
       "      <td>...</td>\n",
       "      <td>...</td>\n",
       "      <td>...</td>\n",
       "      <td>...</td>\n",
       "      <td>...</td>\n",
       "      <td>...</td>\n",
       "      <td>...</td>\n",
       "      <td>...</td>\n",
       "      <td>...</td>\n",
       "      <td>...</td>\n",
       "      <td>...</td>\n",
       "    </tr>\n",
       "    <tr>\n",
       "      <th>253675</th>\n",
       "      <td>0.0</td>\n",
       "      <td>1.0</td>\n",
       "      <td>1.0</td>\n",
       "      <td>1.0</td>\n",
       "      <td>45.0</td>\n",
       "      <td>0.0</td>\n",
       "      <td>0.0</td>\n",
       "      <td>0.0</td>\n",
       "      <td>0.0</td>\n",
       "      <td>1.0</td>\n",
       "      <td>...</td>\n",
       "      <td>1.0</td>\n",
       "      <td>0.0</td>\n",
       "      <td>3.0</td>\n",
       "      <td>0.0</td>\n",
       "      <td>5.0</td>\n",
       "      <td>0.0</td>\n",
       "      <td>1.0</td>\n",
       "      <td>5.0</td>\n",
       "      <td>6.0</td>\n",
       "      <td>7.0</td>\n",
       "    </tr>\n",
       "    <tr>\n",
       "      <th>253676</th>\n",
       "      <td>2.0</td>\n",
       "      <td>1.0</td>\n",
       "      <td>1.0</td>\n",
       "      <td>1.0</td>\n",
       "      <td>18.0</td>\n",
       "      <td>0.0</td>\n",
       "      <td>0.0</td>\n",
       "      <td>0.0</td>\n",
       "      <td>0.0</td>\n",
       "      <td>0.0</td>\n",
       "      <td>...</td>\n",
       "      <td>1.0</td>\n",
       "      <td>0.0</td>\n",
       "      <td>4.0</td>\n",
       "      <td>0.0</td>\n",
       "      <td>0.0</td>\n",
       "      <td>1.0</td>\n",
       "      <td>0.0</td>\n",
       "      <td>11.0</td>\n",
       "      <td>2.0</td>\n",
       "      <td>4.0</td>\n",
       "    </tr>\n",
       "    <tr>\n",
       "      <th>253677</th>\n",
       "      <td>0.0</td>\n",
       "      <td>0.0</td>\n",
       "      <td>0.0</td>\n",
       "      <td>1.0</td>\n",
       "      <td>28.0</td>\n",
       "      <td>0.0</td>\n",
       "      <td>0.0</td>\n",
       "      <td>0.0</td>\n",
       "      <td>1.0</td>\n",
       "      <td>1.0</td>\n",
       "      <td>...</td>\n",
       "      <td>1.0</td>\n",
       "      <td>0.0</td>\n",
       "      <td>1.0</td>\n",
       "      <td>0.0</td>\n",
       "      <td>0.0</td>\n",
       "      <td>0.0</td>\n",
       "      <td>0.0</td>\n",
       "      <td>2.0</td>\n",
       "      <td>5.0</td>\n",
       "      <td>2.0</td>\n",
       "    </tr>\n",
       "    <tr>\n",
       "      <th>253678</th>\n",
       "      <td>0.0</td>\n",
       "      <td>1.0</td>\n",
       "      <td>0.0</td>\n",
       "      <td>1.0</td>\n",
       "      <td>23.0</td>\n",
       "      <td>0.0</td>\n",
       "      <td>0.0</td>\n",
       "      <td>0.0</td>\n",
       "      <td>0.0</td>\n",
       "      <td>1.0</td>\n",
       "      <td>...</td>\n",
       "      <td>1.0</td>\n",
       "      <td>0.0</td>\n",
       "      <td>3.0</td>\n",
       "      <td>0.0</td>\n",
       "      <td>0.0</td>\n",
       "      <td>0.0</td>\n",
       "      <td>1.0</td>\n",
       "      <td>7.0</td>\n",
       "      <td>5.0</td>\n",
       "      <td>1.0</td>\n",
       "    </tr>\n",
       "    <tr>\n",
       "      <th>253679</th>\n",
       "      <td>2.0</td>\n",
       "      <td>1.0</td>\n",
       "      <td>1.0</td>\n",
       "      <td>1.0</td>\n",
       "      <td>25.0</td>\n",
       "      <td>0.0</td>\n",
       "      <td>0.0</td>\n",
       "      <td>1.0</td>\n",
       "      <td>1.0</td>\n",
       "      <td>1.0</td>\n",
       "      <td>...</td>\n",
       "      <td>1.0</td>\n",
       "      <td>0.0</td>\n",
       "      <td>2.0</td>\n",
       "      <td>0.0</td>\n",
       "      <td>0.0</td>\n",
       "      <td>0.0</td>\n",
       "      <td>0.0</td>\n",
       "      <td>9.0</td>\n",
       "      <td>6.0</td>\n",
       "      <td>2.0</td>\n",
       "    </tr>\n",
       "  </tbody>\n",
       "</table>\n",
       "<p>253680 rows × 22 columns</p>\n",
       "</div>"
      ],
      "text/plain": [
       "        Diabetes_012  HighBP  HighChol  CholCheck   BMI  Smoker  Stroke  \\\n",
       "0                0.0     1.0       1.0        1.0  40.0     1.0     0.0   \n",
       "1                0.0     0.0       0.0        0.0  25.0     1.0     0.0   \n",
       "2                0.0     1.0       1.0        1.0  28.0     0.0     0.0   \n",
       "3                0.0     1.0       0.0        1.0  27.0     0.0     0.0   \n",
       "4                0.0     1.0       1.0        1.0  24.0     0.0     0.0   \n",
       "...              ...     ...       ...        ...   ...     ...     ...   \n",
       "253675           0.0     1.0       1.0        1.0  45.0     0.0     0.0   \n",
       "253676           2.0     1.0       1.0        1.0  18.0     0.0     0.0   \n",
       "253677           0.0     0.0       0.0        1.0  28.0     0.0     0.0   \n",
       "253678           0.0     1.0       0.0        1.0  23.0     0.0     0.0   \n",
       "253679           2.0     1.0       1.0        1.0  25.0     0.0     0.0   \n",
       "\n",
       "        HeartDiseaseorAttack  PhysActivity  Fruits  ...  AnyHealthcare  \\\n",
       "0                        0.0           0.0     0.0  ...            1.0   \n",
       "1                        0.0           1.0     0.0  ...            0.0   \n",
       "2                        0.0           0.0     1.0  ...            1.0   \n",
       "3                        0.0           1.0     1.0  ...            1.0   \n",
       "4                        0.0           1.0     1.0  ...            1.0   \n",
       "...                      ...           ...     ...  ...            ...   \n",
       "253675                   0.0           0.0     1.0  ...            1.0   \n",
       "253676                   0.0           0.0     0.0  ...            1.0   \n",
       "253677                   0.0           1.0     1.0  ...            1.0   \n",
       "253678                   0.0           0.0     1.0  ...            1.0   \n",
       "253679                   1.0           1.0     1.0  ...            1.0   \n",
       "\n",
       "        NoDocbcCost  GenHlth  MentHlth  PhysHlth  DiffWalk  Sex   Age  \\\n",
       "0               0.0      5.0      18.0      15.0       1.0  0.0   9.0   \n",
       "1               1.0      3.0       0.0       0.0       0.0  0.0   7.0   \n",
       "2               1.0      5.0      30.0      30.0       1.0  0.0   9.0   \n",
       "3               0.0      2.0       0.0       0.0       0.0  0.0  11.0   \n",
       "4               0.0      2.0       3.0       0.0       0.0  0.0  11.0   \n",
       "...             ...      ...       ...       ...       ...  ...   ...   \n",
       "253675          0.0      3.0       0.0       5.0       0.0  1.0   5.0   \n",
       "253676          0.0      4.0       0.0       0.0       1.0  0.0  11.0   \n",
       "253677          0.0      1.0       0.0       0.0       0.0  0.0   2.0   \n",
       "253678          0.0      3.0       0.0       0.0       0.0  1.0   7.0   \n",
       "253679          0.0      2.0       0.0       0.0       0.0  0.0   9.0   \n",
       "\n",
       "        Education  Income  \n",
       "0             4.0     3.0  \n",
       "1             6.0     1.0  \n",
       "2             4.0     8.0  \n",
       "3             3.0     6.0  \n",
       "4             5.0     4.0  \n",
       "...           ...     ...  \n",
       "253675        6.0     7.0  \n",
       "253676        2.0     4.0  \n",
       "253677        5.0     2.0  \n",
       "253678        5.0     1.0  \n",
       "253679        6.0     2.0  \n",
       "\n",
       "[253680 rows x 22 columns]"
      ]
     },
     "execution_count": 4,
     "metadata": {},
     "output_type": "execute_result"
    }
   ],
   "source": [
    "df = pd.read_csv(\"data/diabetes_012_health_indicators_BRFSS2015.csv\")\n",
    "df"
   ]
  },
  {
   "cell_type": "markdown",
   "id": "cdb27342",
   "metadata": {},
   "source": [
    "Check type of the data in order to make sure whether the data can be analyze as a number or not\n",
    "<br>\n",
    "<br>\n",
    "From the result, we can see that there is no any data type except float which is numerical"
   ]
  },
  {
   "cell_type": "code",
   "execution_count": 5,
   "id": "3fdd94f5",
   "metadata": {},
   "outputs": [
    {
     "data": {
      "text/plain": [
       "Diabetes_012            float64\n",
       "HighBP                  float64\n",
       "HighChol                float64\n",
       "CholCheck               float64\n",
       "BMI                     float64\n",
       "Smoker                  float64\n",
       "Stroke                  float64\n",
       "HeartDiseaseorAttack    float64\n",
       "PhysActivity            float64\n",
       "Fruits                  float64\n",
       "Veggies                 float64\n",
       "HvyAlcoholConsump       float64\n",
       "AnyHealthcare           float64\n",
       "NoDocbcCost             float64\n",
       "GenHlth                 float64\n",
       "MentHlth                float64\n",
       "PhysHlth                float64\n",
       "DiffWalk                float64\n",
       "Sex                     float64\n",
       "Age                     float64\n",
       "Education               float64\n",
       "Income                  float64\n",
       "dtype: object"
      ]
     },
     "execution_count": 5,
     "metadata": {},
     "output_type": "execute_result"
    }
   ],
   "source": [
    "df.dtypes"
   ]
  },
  {
   "cell_type": "markdown",
   "id": "e364ac12",
   "metadata": {},
   "source": [
    "# Clean Dataset"
   ]
  },
  {
   "cell_type": "markdown",
   "id": "f1f66038",
   "metadata": {},
   "source": [
    "For this dataset, mostly we can not do cleaning dataset methods which based on the variety level of the data itself.\n",
    "The reasons are:\n",
    "1. Categorical\n",
    "2. Supervised, which means using target variable \n",
    "3. Hard to determine the 0-type null data, as 0 is one of the value needed\n",
    "\n",
    "So, because of this condition that given from the dataset, we will not do cleaning methods such as \"few values\" and \"low variance\", \n",
    "instead what we can do for the preparation of the data are removing feature that has single value, removing duplicate row, and imputating all the outliers."
   ]
  },
  {
   "cell_type": "markdown",
   "id": "85630947",
   "metadata": {},
   "source": [
    "### Cleaning Data - Single Value"
   ]
  },
  {
   "cell_type": "markdown",
   "id": "4f68f794",
   "metadata": {},
   "source": [
    "But, for cleaning data by single value, from the following result, we can see that in the dataset there is no any single value data, so cleaning by single value is nnot necessary."
   ]
  },
  {
   "cell_type": "code",
   "execution_count": 6,
   "id": "7cef5fed",
   "metadata": {},
   "outputs": [
    {
     "data": {
      "text/plain": [
       "Diabetes_012             3\n",
       "HighBP                   2\n",
       "HighChol                 2\n",
       "CholCheck                2\n",
       "BMI                     84\n",
       "Smoker                   2\n",
       "Stroke                   2\n",
       "HeartDiseaseorAttack     2\n",
       "PhysActivity             2\n",
       "Fruits                   2\n",
       "Veggies                  2\n",
       "HvyAlcoholConsump        2\n",
       "AnyHealthcare            2\n",
       "NoDocbcCost              2\n",
       "GenHlth                  5\n",
       "MentHlth                31\n",
       "PhysHlth                31\n",
       "DiffWalk                 2\n",
       "Sex                      2\n",
       "Age                     13\n",
       "Education                6\n",
       "Income                   8\n",
       "dtype: int64"
      ]
     },
     "execution_count": 6,
     "metadata": {},
     "output_type": "execute_result"
    }
   ],
   "source": [
    "df.nunique()"
   ]
  },
  {
   "cell_type": "markdown",
   "id": "375b3d46",
   "metadata": {},
   "source": [
    "### Cleaning Data - Duplicate Row"
   ]
  },
  {
   "cell_type": "markdown",
   "id": "7cbdbf84",
   "metadata": {},
   "source": [
    "Next, for cleaning data by removing duplicate row, from the result below, there are about 23899 number of rows that have been successfully deleted or dropped from the data"
   ]
  },
  {
   "cell_type": "code",
   "execution_count": 7,
   "id": "7aea4b44",
   "metadata": {},
   "outputs": [
    {
     "name": "stdout",
     "output_type": "stream",
     "text": [
      "Number of rows before droping duplicate data: 253680\n",
      "Number of rows after droping duplicate data: 229781\n"
     ]
    }
   ],
   "source": [
    "print(f\"Number of rows before droping duplicate data: {df.shape[0]}\")\n",
    "\n",
    "df.drop_duplicates(inplace=True)\n",
    "\n",
    "print(f\"Number of rows after droping duplicate data: {df.shape[0]}\")"
   ]
  },
  {
   "cell_type": "markdown",
   "id": "93d5d70d",
   "metadata": {},
   "source": [
    "### Resampling Data"
   ]
  },
  {
   "cell_type": "markdown",
   "id": "399bd2b3",
   "metadata": {},
   "source": [
    "Due to the data has a lot of imbalance classes, so to overcome this we need to do either random over-sampling (which artificially create new data in order to reduce the imbalance level) or random under-sampling (which randomly remove rows of data in order to also reduce the imbalance level)"
   ]
  },
  {
   "cell_type": "markdown",
   "id": "48db6bfe",
   "metadata": {},
   "source": [
    "From the pie-chart below, we can see that the value \"0.0\" of feature \"Diabetes_012\" greatly dominates the other value for of the overall amount. Imbalance in data can probably affect the other value inside (which got dominated) to be identified as an outlier which eventually in worst case can bring the data to have a lot of single value. Despite that, imbalance data can also affect the model to be more biased towards the majority class."
   ]
  },
  {
   "cell_type": "code",
   "execution_count": 8,
   "id": "af867798",
   "metadata": {},
   "outputs": [
    {
     "data": {
      "image/png": "[encoded data removed]",
      "text/plain": [
       "<Figure size 1080x648 with 1 Axes>"
      ]
     },
     "metadata": {},
     "output_type": "display_data"
    }
   ],
   "source": [
    "from imblearn.over_sampling import RandomOverSampler\n",
    "\n",
    "theX = df.iloc[:, 1:]\n",
    "theY = df.iloc[:, 0]\n",
    "\n",
    "plt.figure(figsize=(15,9))\n",
    "ax = theY.value_counts().plot.pie(autopct=\"%.2f%%\", colors=sns.color_palette('pastel'))\n",
    "_ = ax.set_title(\"Before Resampling\")"
   ]
  },
  {
   "cell_type": "markdown",
   "id": "8aac3e9b",
   "metadata": {},
   "source": [
    "Because the majority class has extremely bigger amount of data then the others, so using \"over-sampling\" for resampling the data is much better than using \"under-sampling\" which this will cause data shortage"
   ]
  },
  {
   "cell_type": "markdown",
   "id": "c227726c",
   "metadata": {},
   "source": [
    "Right now, after resampling the data, we can see that the proportion has been equally spread"
   ]
  },
  {
   "cell_type": "code",
   "execution_count": 9,
   "id": "46940490",
   "metadata": {},
   "outputs": [
    {
     "data": {
      "image/png": "[encoded data removed]",
      "text/plain": [
       "<Figure size 1080x648 with 1 Axes>"
      ]
     },
     "metadata": {},
     "output_type": "display_data"
    }
   ],
   "source": [
    "yValueCounts = theY.value_counts()\n",
    "samplingStrs = {0:yValueCounts[0], 1:int(yValueCounts[0]*0.8), 2:int(yValueCounts[0]*0.65)}\n",
    "ros = RandomOverSampler(sampling_strategy=samplingStrs, random_state=1)\n",
    "X_res, y_res = ros.fit_resample(theX, theY)\n",
    "\n",
    "plt.figure(figsize=(15,9))\n",
    "ax = y_res.value_counts().plot.pie(autopct=\"%.2f%%\", colors=sns.color_palette('pastel'))\n",
    "_ = ax.set_title(\"Over-Sampling\")\n",
    "\n",
    "df = pd.concat([y_res, X_res], axis=1)"
   ]
  },
  {
   "cell_type": "markdown",
   "id": "4332fcf0",
   "metadata": {},
   "source": [
    "But, for the consequence, the number of data is increased, linearly with the differece between majority and minority class"
   ]
  },
  {
   "cell_type": "code",
   "execution_count": 10,
   "id": "03cf445a",
   "metadata": {},
   "outputs": [
    {
     "data": {
      "text/plain": [
       "(465634, 22)"
      ]
     },
     "execution_count": 10,
     "metadata": {},
     "output_type": "execute_result"
    }
   ],
   "source": [
    "df.shape"
   ]
  },
  {
   "cell_type": "markdown",
   "id": "178b247b",
   "metadata": {},
   "source": [
    "### Identify Outliers"
   ]
  },
  {
   "cell_type": "markdown",
   "id": "ad8e72e0",
   "metadata": {},
   "source": [
    "From the figure shown below, we can see that most of the column data turns out having their outliers"
   ]
  },
  {
   "cell_type": "code",
   "execution_count": 11,
   "id": "387f7549",
   "metadata": {},
   "outputs": [
    {
     "data": {
      "text/plain": [
       "<AxesSubplot:>"
      ]
     },
     "execution_count": 11,
     "metadata": {},
     "output_type": "execute_result"
    },
    {
     "data": {
      "image/png": "[encoded data removed]",
      "text/plain": [
       "<Figure size 1080x648 with 1 Axes>"
      ]
     },
     "metadata": {
      "needs_background": "light"
     },
     "output_type": "display_data"
    }
   ],
   "source": [
    "plt.figure(figsize=(15,9))\n",
    "sns.boxplot(df, orient=\"h\")"
   ]
  },
  {
   "cell_type": "markdown",
   "id": "cfb1b9c2",
   "metadata": {},
   "source": [
    "### Replace Outliers with NaN"
   ]
  },
  {
   "cell_type": "markdown",
   "id": "53480697",
   "metadata": {},
   "source": [
    "From the following result, we can see that all the previous identified outliers have not been replaced yet with nan"
   ]
  },
  {
   "cell_type": "code",
   "execution_count": 12,
   "id": "eb21dd79",
   "metadata": {},
   "outputs": [
    {
     "data": {
      "text/plain": [
       "Diabetes_012            0\n",
       "HighBP                  0\n",
       "HighChol                0\n",
       "CholCheck               0\n",
       "BMI                     0\n",
       "Smoker                  0\n",
       "Stroke                  0\n",
       "HeartDiseaseorAttack    0\n",
       "PhysActivity            0\n",
       "Fruits                  0\n",
       "Veggies                 0\n",
       "HvyAlcoholConsump       0\n",
       "AnyHealthcare           0\n",
       "NoDocbcCost             0\n",
       "GenHlth                 0\n",
       "MentHlth                0\n",
       "PhysHlth                0\n",
       "DiffWalk                0\n",
       "Sex                     0\n",
       "Age                     0\n",
       "Education               0\n",
       "Income                  0\n",
       "dtype: int64"
      ]
     },
     "execution_count": 12,
     "metadata": {},
     "output_type": "execute_result"
    }
   ],
   "source": [
    "np.isnan(df).sum()"
   ]
  },
  {
   "cell_type": "markdown",
   "id": "f47888fe",
   "metadata": {},
   "source": [
    "Using IQR to identify the outliers then replace the value using numpy to get nan value. \n",
    "<br>\n",
    "<br>\n",
    "This replacement method is not for all the outliers, but only those that has more than 9 number of unique values so then the data is avoided from data shortage"
   ]
  },
  {
   "cell_type": "code",
   "execution_count": 13,
   "id": "5c7e711f",
   "metadata": {},
   "outputs": [
    {
     "name": "stdout",
     "output_type": "stream",
     "text": [
      "All outliers have been successfully replaced for 5 times\n"
     ]
    }
   ],
   "source": [
    "def replaceOutliers(data, col):\n",
    "    Q1 = data[col].quantile(0.25)\n",
    "    Q3 = data[col].quantile(0.75)\n",
    "    IQR = Q3-Q1\n",
    "    \n",
    "    cutOff = 1.5*IQR\n",
    "    lBound = Q1 - cutOff\n",
    "    uBound = Q3 + cutOff\n",
    "    \n",
    "    # find the outliers\n",
    "    lOutliers = data[col]<lBound\n",
    "    uOutliers = data[col]>uBound\n",
    "    \n",
    "    # check whether there's at least an outlier in data or not\n",
    "    outlierExist = False\n",
    "    if lOutliers.sum() > 0 or uOutliers.sum() > 0:\n",
    "        outlierExist = True\n",
    "    \n",
    "    # replaced all the outlier values inside col with nan\n",
    "    data.loc[lOutliers | uOutliers, col] = np.nan\n",
    "    \n",
    "    return data[col], outlierExist\n",
    "\n",
    "\n",
    "\n",
    "# we need to do this process of finding and replacing the outliers with nan for more than a time\n",
    "# because if not there'll be still outliers left inside data\n",
    "iter = 0\n",
    "isOutlier = True\n",
    "uniqList = df.nunique()\n",
    "while isOutlier:\n",
    "    isOutlier = False\n",
    "    for col in df.columns:\n",
    "        if uniqList[col] > 9:\n",
    "            df[col], isExist = replaceOutliers(df, col)\n",
    "            if isExist and not isOutlier:\n",
    "                isOutlier = True\n",
    "    \n",
    "    iter += 1\n",
    "    \n",
    "\n",
    "    \n",
    "if iter == 1:\n",
    "    print(f\"All outliers have been successfully replaced for {iter} time\")\n",
    "else:\n",
    "    print(f\"All outliers have been successfully replaced for {iter} times\")"
   ]
  },
  {
   "cell_type": "markdown",
   "id": "45c53ffc",
   "metadata": {},
   "source": [
    "Right now, after some of the outliers have been replaced, we can also see from boxplot-chart below that the number of appearing dots are reduced  "
   ]
  },
  {
   "cell_type": "code",
   "execution_count": 14,
   "id": "d6a22025",
   "metadata": {},
   "outputs": [
    {
     "data": {
      "text/plain": [
       "<AxesSubplot:>"
      ]
     },
     "execution_count": 14,
     "metadata": {},
     "output_type": "execute_result"
    },
    {
     "data": {
      "image/png": "[encoded data removed]",
      "text/plain": [
       "<Figure size 1080x648 with 1 Axes>"
      ]
     },
     "metadata": {
      "needs_background": "light"
     },
     "output_type": "display_data"
    }
   ],
   "source": [
    "plt.figure(figsize=(15,9))\n",
    "sns.boxplot(df, orient=\"h\")"
   ]
  },
  {
   "cell_type": "markdown",
   "id": "09f0059c",
   "metadata": {},
   "source": [
    "Also, from the following result, we can see that the number of nan value is increased"
   ]
  },
  {
   "cell_type": "code",
   "execution_count": 15,
   "id": "4002c645",
   "metadata": {},
   "outputs": [
    {
     "data": {
      "text/plain": [
       "Diabetes_012                 0\n",
       "HighBP                       0\n",
       "HighChol                     0\n",
       "CholCheck                    0\n",
       "BMI                      13987\n",
       "Smoker                       0\n",
       "Stroke                       0\n",
       "HeartDiseaseorAttack         0\n",
       "PhysActivity                 0\n",
       "Fruits                       0\n",
       "Veggies                      0\n",
       "HvyAlcoholConsump            0\n",
       "AnyHealthcare                0\n",
       "NoDocbcCost                  0\n",
       "GenHlth                      0\n",
       "MentHlth                160819\n",
       "PhysHlth                208615\n",
       "DiffWalk                     0\n",
       "Sex                          0\n",
       "Age                          0\n",
       "Education                    0\n",
       "Income                       0\n",
       "dtype: int64"
      ]
     },
     "execution_count": 15,
     "metadata": {},
     "output_type": "execute_result"
    }
   ],
   "source": [
    "np.isnan(df).sum() "
   ]
  },
  {
   "cell_type": "markdown",
   "id": "091df9ed",
   "metadata": {},
   "source": [
    "But, eventhough we have limited the to-be-deleted outliers and also resampling the data in order to avoid imbalance class, turns out there are still some of features that ended up having single value. This happen surely because the data turns out to be extremely imbalance than we expected. So, towards this, we have no other choices than to drop or to delete the features."
   ]
  },
  {
   "cell_type": "code",
   "execution_count": 16,
   "id": "97463a2d",
   "metadata": {},
   "outputs": [
    {
     "data": {
      "text/plain": [
       "Diabetes_012             3\n",
       "HighBP                   2\n",
       "HighChol                 2\n",
       "CholCheck                2\n",
       "BMI                     33\n",
       "Smoker                   2\n",
       "Stroke                   2\n",
       "HeartDiseaseorAttack     2\n",
       "PhysActivity             2\n",
       "Fruits                   2\n",
       "Veggies                  2\n",
       "HvyAlcoholConsump        2\n",
       "AnyHealthcare            2\n",
       "NoDocbcCost              2\n",
       "GenHlth                  5\n",
       "MentHlth                 1\n",
       "PhysHlth                 1\n",
       "DiffWalk                 2\n",
       "Sex                      2\n",
       "Age                     13\n",
       "Education                6\n",
       "Income                   8\n",
       "dtype: int64"
      ]
     },
     "execution_count": 16,
     "metadata": {},
     "output_type": "execute_result"
    }
   ],
   "source": [
    "df.nunique()"
   ]
  },
  {
   "cell_type": "code",
   "execution_count": 17,
   "id": "92a6f12e",
   "metadata": {},
   "outputs": [
    {
     "data": {
      "text/plain": [
       "Diabetes_012             3\n",
       "HighBP                   2\n",
       "HighChol                 2\n",
       "CholCheck                2\n",
       "BMI                     33\n",
       "Smoker                   2\n",
       "Stroke                   2\n",
       "HeartDiseaseorAttack     2\n",
       "PhysActivity             2\n",
       "Fruits                   2\n",
       "Veggies                  2\n",
       "HvyAlcoholConsump        2\n",
       "AnyHealthcare            2\n",
       "NoDocbcCost              2\n",
       "GenHlth                  5\n",
       "DiffWalk                 2\n",
       "Sex                      2\n",
       "Age                     13\n",
       "Education                6\n",
       "Income                   8\n",
       "dtype: int64"
      ]
     },
     "execution_count": 17,
     "metadata": {},
     "output_type": "execute_result"
    }
   ],
   "source": [
    "df.drop([\"MentHlth\", \"PhysHlth\"], axis=1, inplace=True)\n",
    "df.nunique()"
   ]
  },
  {
   "cell_type": "code",
   "execution_count": 18,
   "id": "a3f2446b",
   "metadata": {},
   "outputs": [
    {
     "data": {
      "text/plain": [
       "(465634, 20)"
      ]
     },
     "execution_count": 18,
     "metadata": {},
     "output_type": "execute_result"
    }
   ],
   "source": [
    "df.shape"
   ]
  },
  {
   "cell_type": "markdown",
   "id": "e9422618",
   "metadata": {},
   "source": [
    "# Imputasi Data"
   ]
  },
  {
   "cell_type": "markdown",
   "id": "4ed24600",
   "metadata": {},
   "source": [
    "After some of the outliers inside data have been successfully replaced with nan, right now, in data imputation, the work is to replace those nan values using data imputation methods. But, because the data is large enough, so we can not afford to use advanced data imputation methods, such as KNN Imputer and KNN Iteratif, instead we can only use SimpleImputer.\n",
    "<br>\n",
    "<br>\n",
    "In SimpleImputer, there are four approaches, which are mean, median, most_frequent, and constant. In the process below, all the approaches are applied in order to see the result and to get the best approach one."
   ]
  },
  {
   "cell_type": "code",
   "execution_count": 19,
   "id": "f1137fd7",
   "metadata": {},
   "outputs": [
    {
     "data": {
      "text/plain": [
       "<seaborn.axisgrid.FacetGrid at 0x1ec9fdb18d0>"
      ]
     },
     "execution_count": 19,
     "metadata": {},
     "output_type": "execute_result"
    },
    {
     "data": {
      "text/plain": [
       "<Figure size 1080x648 with 0 Axes>"
      ]
     },
     "metadata": {},
     "output_type": "display_data"
    },
    {
     "data": {
      "image/png": "[encoded data removed]",
      "text/plain": [
       "<Figure size 468.5x360 with 1 Axes>"
      ]
     },
     "metadata": {
      "needs_background": "light"
     },
     "output_type": "display_data"
    },
    {
     "data": {
      "image/png": "[encoded data removed]",
      "text/plain": [
       "<Figure size 468.5x360 with 1 Axes>"
      ]
     },
     "metadata": {
      "needs_background": "light"
     },
     "output_type": "display_data"
    },
    {
     "data": {
      "image/png": "[encoded data removed]",
      "text/plain": [
       "<Figure size 468.5x360 with 1 Axes>"
      ]
     },
     "metadata": {
      "needs_background": "light"
     },
     "output_type": "display_data"
    }
   ],
   "source": [
    "# evaluate each strategy on the dataset\n",
    "results = list()\n",
    "strategies = ['mean', 'median', 'most_frequent', 'constant']\n",
    "dummiesBMI = {}\n",
    "\n",
    "for s in strategies:\n",
    "    dummySI = df.copy()\n",
    "    si = SimpleImputer(missing_values=np.nan, strategy=s)\n",
    "    dummySI = si.fit_transform(dummySI)\n",
    "    dummySI = (pd.DataFrame(dummySI, columns=df.columns)).reset_index(drop=True, inplace=False)\n",
    "    dummiesBMI[s] = dummySI[\"BMI\"]\n",
    "    \n",
    "plt.figure(figsize=(15,9))\n",
    "sns.displot(dummiesBMI, kind=\"kde\")\n",
    "sns.displot(dummiesBMI, multiple=\"stack\")\n",
    "sns.displot(dummiesBMI, kind=\"ecdf\")"
   ]
  },
  {
   "cell_type": "markdown",
   "id": "514f9db4",
   "metadata": {},
   "source": [
    "From the graphs above, we can see that the result turns out to be mostly similar one to another, but only constant that has slightly difference result. But, from the three graphs, we can see that the \"blue\" is one that has been replaced the nan values with lowest number of changes to the distribution. So, then from the four approaches, we will use \"mean\" to impute the nan values.\n",
    "<br>\n",
    "<br>\n",
    "Graph below shows the distribution of data before and after doing data imputation"
   ]
  },
  {
   "cell_type": "code",
   "execution_count": 20,
   "id": "5dfa3a4d",
   "metadata": {},
   "outputs": [
    {
     "name": "stdout",
     "output_type": "stream",
     "text": [
      "number of missing values before imputation: 13987\n",
      "number of missing values after imputation: 0\n"
     ]
    },
    {
     "data": {
      "text/plain": [
       "<Figure size 1080x648 with 0 Axes>"
      ]
     },
     "metadata": {},
     "output_type": "display_data"
    },
    {
     "data": {
      "image/png": "[encoded data removed]",
      "text/plain": [
       "<Figure size 486x360 with 1 Axes>"
      ]
     },
     "metadata": {
      "needs_background": "light"
     },
     "output_type": "display_data"
    }
   ],
   "source": [
    "print(f\"number of missing values before imputation: {df.isnull().sum().sum()}\")\n",
    "\n",
    "dummySI = df.copy()\n",
    "\n",
    "siMean  = SimpleImputer(missing_values=np.nan, strategy='mean')\n",
    "dummySI = siMean.fit_transform(dummySI)\n",
    "dummySI = (pd.DataFrame(dummySI, columns=df.columns)).reset_index(drop=True, inplace=False)\n",
    "\n",
    "print(f\"number of missing values after imputation: {dummySI.isnull().sum().sum()}\")\n",
    "plt.figure(figsize=(15,9))\n",
    "sns.displot({\"Before Imputation\": df[\"BMI\"], \"After Imputation\": dummySI[\"BMI\"]}, kind=\"kde\")\n",
    "\n",
    "# Change permanently df\n",
    "df = dummySI.copy()"
   ]
  },
  {
   "cell_type": "markdown",
   "id": "6ed999da",
   "metadata": {},
   "source": [
    "# Feature Selection"
   ]
  },
  {
   "cell_type": "markdown",
   "id": "8c58aa18",
   "metadata": {},
   "source": [
    "The following table is the most-updated data of the dataset, which as we can see both rows (increased from 253680 to be 465634) and columns (decreased from 22 to be 20) change due to the data cleaning and resampling method we have just done"
   ]
  },
  {
   "cell_type": "code",
   "execution_count": 22,
   "id": "b8db416e",
   "metadata": {},
   "outputs": [
    {
     "data": {
      "text/html": [
       "<div>\n",
       "<style scoped>\n",
       "    .dataframe tbody tr th:only-of-type {\n",
       "        vertical-align: middle;\n",
       "    }\n",
       "\n",
       "    .dataframe tbody tr th {\n",
       "        vertical-align: top;\n",
       "    }\n",
       "\n",
       "    .dataframe thead th {\n",
       "        text-align: right;\n",
       "    }\n",
       "</style>\n",
       "<table border=\"1\" class=\"dataframe\">\n",
       "  <thead>\n",
       "    <tr style=\"text-align: right;\">\n",
       "      <th></th>\n",
       "      <th>Diabetes_012</th>\n",
       "      <th>HighBP</th>\n",
       "      <th>HighChol</th>\n",
       "      <th>CholCheck</th>\n",
       "      <th>BMI</th>\n",
       "      <th>Smoker</th>\n",
       "      <th>Stroke</th>\n",
       "      <th>HeartDiseaseorAttack</th>\n",
       "      <th>PhysActivity</th>\n",
       "      <th>Fruits</th>\n",
       "      <th>Veggies</th>\n",
       "      <th>HvyAlcoholConsump</th>\n",
       "      <th>AnyHealthcare</th>\n",
       "      <th>NoDocbcCost</th>\n",
       "      <th>GenHlth</th>\n",
       "      <th>DiffWalk</th>\n",
       "      <th>Sex</th>\n",
       "      <th>Age</th>\n",
       "      <th>Education</th>\n",
       "      <th>Income</th>\n",
       "    </tr>\n",
       "  </thead>\n",
       "  <tbody>\n",
       "    <tr>\n",
       "      <th>0</th>\n",
       "      <td>0.0</td>\n",
       "      <td>1.0</td>\n",
       "      <td>1.0</td>\n",
       "      <td>1.0</td>\n",
       "      <td>40.0</td>\n",
       "      <td>1.0</td>\n",
       "      <td>0.0</td>\n",
       "      <td>0.0</td>\n",
       "      <td>0.0</td>\n",
       "      <td>0.0</td>\n",
       "      <td>1.0</td>\n",
       "      <td>0.0</td>\n",
       "      <td>1.0</td>\n",
       "      <td>0.0</td>\n",
       "      <td>5.0</td>\n",
       "      <td>1.0</td>\n",
       "      <td>0.0</td>\n",
       "      <td>9.0</td>\n",
       "      <td>4.0</td>\n",
       "      <td>3.0</td>\n",
       "    </tr>\n",
       "    <tr>\n",
       "      <th>1</th>\n",
       "      <td>0.0</td>\n",
       "      <td>0.0</td>\n",
       "      <td>0.0</td>\n",
       "      <td>0.0</td>\n",
       "      <td>25.0</td>\n",
       "      <td>1.0</td>\n",
       "      <td>0.0</td>\n",
       "      <td>0.0</td>\n",
       "      <td>1.0</td>\n",
       "      <td>0.0</td>\n",
       "      <td>0.0</td>\n",
       "      <td>0.0</td>\n",
       "      <td>0.0</td>\n",
       "      <td>1.0</td>\n",
       "      <td>3.0</td>\n",
       "      <td>0.0</td>\n",
       "      <td>0.0</td>\n",
       "      <td>7.0</td>\n",
       "      <td>6.0</td>\n",
       "      <td>1.0</td>\n",
       "    </tr>\n",
       "    <tr>\n",
       "      <th>2</th>\n",
       "      <td>0.0</td>\n",
       "      <td>1.0</td>\n",
       "      <td>1.0</td>\n",
       "      <td>1.0</td>\n",
       "      <td>28.0</td>\n",
       "      <td>0.0</td>\n",
       "      <td>0.0</td>\n",
       "      <td>0.0</td>\n",
       "      <td>0.0</td>\n",
       "      <td>1.0</td>\n",
       "      <td>0.0</td>\n",
       "      <td>0.0</td>\n",
       "      <td>1.0</td>\n",
       "      <td>1.0</td>\n",
       "      <td>5.0</td>\n",
       "      <td>1.0</td>\n",
       "      <td>0.0</td>\n",
       "      <td>9.0</td>\n",
       "      <td>4.0</td>\n",
       "      <td>8.0</td>\n",
       "    </tr>\n",
       "    <tr>\n",
       "      <th>3</th>\n",
       "      <td>0.0</td>\n",
       "      <td>1.0</td>\n",
       "      <td>0.0</td>\n",
       "      <td>1.0</td>\n",
       "      <td>27.0</td>\n",
       "      <td>0.0</td>\n",
       "      <td>0.0</td>\n",
       "      <td>0.0</td>\n",
       "      <td>1.0</td>\n",
       "      <td>1.0</td>\n",
       "      <td>1.0</td>\n",
       "      <td>0.0</td>\n",
       "      <td>1.0</td>\n",
       "      <td>0.0</td>\n",
       "      <td>2.0</td>\n",
       "      <td>0.0</td>\n",
       "      <td>0.0</td>\n",
       "      <td>11.0</td>\n",
       "      <td>3.0</td>\n",
       "      <td>6.0</td>\n",
       "    </tr>\n",
       "    <tr>\n",
       "      <th>4</th>\n",
       "      <td>0.0</td>\n",
       "      <td>1.0</td>\n",
       "      <td>1.0</td>\n",
       "      <td>1.0</td>\n",
       "      <td>24.0</td>\n",
       "      <td>0.0</td>\n",
       "      <td>0.0</td>\n",
       "      <td>0.0</td>\n",
       "      <td>1.0</td>\n",
       "      <td>1.0</td>\n",
       "      <td>1.0</td>\n",
       "      <td>0.0</td>\n",
       "      <td>1.0</td>\n",
       "      <td>0.0</td>\n",
       "      <td>2.0</td>\n",
       "      <td>0.0</td>\n",
       "      <td>0.0</td>\n",
       "      <td>11.0</td>\n",
       "      <td>5.0</td>\n",
       "      <td>4.0</td>\n",
       "    </tr>\n",
       "    <tr>\n",
       "      <th>...</th>\n",
       "      <td>...</td>\n",
       "      <td>...</td>\n",
       "      <td>...</td>\n",
       "      <td>...</td>\n",
       "      <td>...</td>\n",
       "      <td>...</td>\n",
       "      <td>...</td>\n",
       "      <td>...</td>\n",
       "      <td>...</td>\n",
       "      <td>...</td>\n",
       "      <td>...</td>\n",
       "      <td>...</td>\n",
       "      <td>...</td>\n",
       "      <td>...</td>\n",
       "      <td>...</td>\n",
       "      <td>...</td>\n",
       "      <td>...</td>\n",
       "      <td>...</td>\n",
       "      <td>...</td>\n",
       "      <td>...</td>\n",
       "    </tr>\n",
       "    <tr>\n",
       "      <th>465629</th>\n",
       "      <td>2.0</td>\n",
       "      <td>1.0</td>\n",
       "      <td>1.0</td>\n",
       "      <td>1.0</td>\n",
       "      <td>21.0</td>\n",
       "      <td>1.0</td>\n",
       "      <td>1.0</td>\n",
       "      <td>0.0</td>\n",
       "      <td>1.0</td>\n",
       "      <td>1.0</td>\n",
       "      <td>1.0</td>\n",
       "      <td>0.0</td>\n",
       "      <td>1.0</td>\n",
       "      <td>0.0</td>\n",
       "      <td>3.0</td>\n",
       "      <td>0.0</td>\n",
       "      <td>0.0</td>\n",
       "      <td>13.0</td>\n",
       "      <td>4.0</td>\n",
       "      <td>5.0</td>\n",
       "    </tr>\n",
       "    <tr>\n",
       "      <th>465630</th>\n",
       "      <td>2.0</td>\n",
       "      <td>1.0</td>\n",
       "      <td>1.0</td>\n",
       "      <td>1.0</td>\n",
       "      <td>29.0</td>\n",
       "      <td>1.0</td>\n",
       "      <td>0.0</td>\n",
       "      <td>0.0</td>\n",
       "      <td>1.0</td>\n",
       "      <td>0.0</td>\n",
       "      <td>1.0</td>\n",
       "      <td>0.0</td>\n",
       "      <td>1.0</td>\n",
       "      <td>0.0</td>\n",
       "      <td>4.0</td>\n",
       "      <td>1.0</td>\n",
       "      <td>0.0</td>\n",
       "      <td>10.0</td>\n",
       "      <td>6.0</td>\n",
       "      <td>3.0</td>\n",
       "    </tr>\n",
       "    <tr>\n",
       "      <th>465631</th>\n",
       "      <td>2.0</td>\n",
       "      <td>1.0</td>\n",
       "      <td>1.0</td>\n",
       "      <td>1.0</td>\n",
       "      <td>29.0</td>\n",
       "      <td>1.0</td>\n",
       "      <td>0.0</td>\n",
       "      <td>0.0</td>\n",
       "      <td>0.0</td>\n",
       "      <td>1.0</td>\n",
       "      <td>1.0</td>\n",
       "      <td>0.0</td>\n",
       "      <td>1.0</td>\n",
       "      <td>1.0</td>\n",
       "      <td>4.0</td>\n",
       "      <td>1.0</td>\n",
       "      <td>0.0</td>\n",
       "      <td>11.0</td>\n",
       "      <td>3.0</td>\n",
       "      <td>4.0</td>\n",
       "    </tr>\n",
       "    <tr>\n",
       "      <th>465632</th>\n",
       "      <td>2.0</td>\n",
       "      <td>0.0</td>\n",
       "      <td>0.0</td>\n",
       "      <td>1.0</td>\n",
       "      <td>31.0</td>\n",
       "      <td>0.0</td>\n",
       "      <td>1.0</td>\n",
       "      <td>1.0</td>\n",
       "      <td>1.0</td>\n",
       "      <td>1.0</td>\n",
       "      <td>1.0</td>\n",
       "      <td>0.0</td>\n",
       "      <td>1.0</td>\n",
       "      <td>0.0</td>\n",
       "      <td>3.0</td>\n",
       "      <td>1.0</td>\n",
       "      <td>0.0</td>\n",
       "      <td>11.0</td>\n",
       "      <td>6.0</td>\n",
       "      <td>8.0</td>\n",
       "    </tr>\n",
       "    <tr>\n",
       "      <th>465633</th>\n",
       "      <td>2.0</td>\n",
       "      <td>1.0</td>\n",
       "      <td>1.0</td>\n",
       "      <td>1.0</td>\n",
       "      <td>27.0</td>\n",
       "      <td>1.0</td>\n",
       "      <td>0.0</td>\n",
       "      <td>0.0</td>\n",
       "      <td>0.0</td>\n",
       "      <td>0.0</td>\n",
       "      <td>0.0</td>\n",
       "      <td>0.0</td>\n",
       "      <td>1.0</td>\n",
       "      <td>1.0</td>\n",
       "      <td>5.0</td>\n",
       "      <td>1.0</td>\n",
       "      <td>1.0</td>\n",
       "      <td>8.0</td>\n",
       "      <td>4.0</td>\n",
       "      <td>3.0</td>\n",
       "    </tr>\n",
       "  </tbody>\n",
       "</table>\n",
       "<p>465634 rows × 20 columns</p>\n",
       "</div>"
      ],
      "text/plain": [
       "        Diabetes_012  HighBP  HighChol  CholCheck   BMI  Smoker  Stroke  \\\n",
       "0                0.0     1.0       1.0        1.0  40.0     1.0     0.0   \n",
       "1                0.0     0.0       0.0        0.0  25.0     1.0     0.0   \n",
       "2                0.0     1.0       1.0        1.0  28.0     0.0     0.0   \n",
       "3                0.0     1.0       0.0        1.0  27.0     0.0     0.0   \n",
       "4                0.0     1.0       1.0        1.0  24.0     0.0     0.0   \n",
       "...              ...     ...       ...        ...   ...     ...     ...   \n",
       "465629           2.0     1.0       1.0        1.0  21.0     1.0     1.0   \n",
       "465630           2.0     1.0       1.0        1.0  29.0     1.0     0.0   \n",
       "465631           2.0     1.0       1.0        1.0  29.0     1.0     0.0   \n",
       "465632           2.0     0.0       0.0        1.0  31.0     0.0     1.0   \n",
       "465633           2.0     1.0       1.0        1.0  27.0     1.0     0.0   \n",
       "\n",
       "        HeartDiseaseorAttack  PhysActivity  Fruits  Veggies  \\\n",
       "0                        0.0           0.0     0.0      1.0   \n",
       "1                        0.0           1.0     0.0      0.0   \n",
       "2                        0.0           0.0     1.0      0.0   \n",
       "3                        0.0           1.0     1.0      1.0   \n",
       "4                        0.0           1.0     1.0      1.0   \n",
       "...                      ...           ...     ...      ...   \n",
       "465629                   0.0           1.0     1.0      1.0   \n",
       "465630                   0.0           1.0     0.0      1.0   \n",
       "465631                   0.0           0.0     1.0      1.0   \n",
       "465632                   1.0           1.0     1.0      1.0   \n",
       "465633                   0.0           0.0     0.0      0.0   \n",
       "\n",
       "        HvyAlcoholConsump  AnyHealthcare  NoDocbcCost  GenHlth  DiffWalk  Sex  \\\n",
       "0                     0.0            1.0          0.0      5.0       1.0  0.0   \n",
       "1                     0.0            0.0          1.0      3.0       0.0  0.0   \n",
       "2                     0.0            1.0          1.0      5.0       1.0  0.0   \n",
       "3                     0.0            1.0          0.0      2.0       0.0  0.0   \n",
       "4                     0.0            1.0          0.0      2.0       0.0  0.0   \n",
       "...                   ...            ...          ...      ...       ...  ...   \n",
       "465629                0.0            1.0          0.0      3.0       0.0  0.0   \n",
       "465630                0.0            1.0          0.0      4.0       1.0  0.0   \n",
       "465631                0.0            1.0          1.0      4.0       1.0  0.0   \n",
       "465632                0.0            1.0          0.0      3.0       1.0  0.0   \n",
       "465633                0.0            1.0          1.0      5.0       1.0  1.0   \n",
       "\n",
       "         Age  Education  Income  \n",
       "0        9.0        4.0     3.0  \n",
       "1        7.0        6.0     1.0  \n",
       "2        9.0        4.0     8.0  \n",
       "3       11.0        3.0     6.0  \n",
       "4       11.0        5.0     4.0  \n",
       "...      ...        ...     ...  \n",
       "465629  13.0        4.0     5.0  \n",
       "465630  10.0        6.0     3.0  \n",
       "465631  11.0        3.0     4.0  \n",
       "465632  11.0        6.0     8.0  \n",
       "465633   8.0        4.0     3.0  \n",
       "\n",
       "[465634 rows x 20 columns]"
      ]
     },
     "execution_count": 22,
     "metadata": {},
     "output_type": "execute_result"
    }
   ],
   "source": [
    "df"
   ]
  },
  {
   "cell_type": "markdown",
   "id": "58bef9ff",
   "metadata": {},
   "source": [
    "Right now for the feature selection, we have analyzed the data and is concluded that the dataset from 22 coloumns it has, 2 of them are numerical and the remains are categorical. So, based on that consideration, I decided, we will use three methods of feature selection, which are Mutual Information (able for all data types), Chi-Squared (limited to only data between categoricals), and ANOVA (limited to only data between categorical and numerical). But, despite those, whether the feature selection methods eventually be used or not, are considered from the evaluation value that is raised from an evaluation technique that will be applied to each of them. \n",
    "\n",
    "\n",
    "Note:\n",
    "When we will do the feature selection methods, It tends to change or transform the data value into categorical number data (encoding), but for the dataset we are using, we do not need to do that thing for all the data inside (unless we decide to encode the two numerical data in order to use it in Mutual Information for comparing it with the usual one) because the data itself has already been in encoding."
   ]
  },
  {
   "cell_type": "code",
   "execution_count": 23,
   "id": "116fcbd8",
   "metadata": {},
   "outputs": [
    {
     "data": {
      "text/html": [
       "<div>\n",
       "<style scoped>\n",
       "    .dataframe tbody tr th:only-of-type {\n",
       "        vertical-align: middle;\n",
       "    }\n",
       "\n",
       "    .dataframe tbody tr th {\n",
       "        vertical-align: top;\n",
       "    }\n",
       "\n",
       "    .dataframe thead th {\n",
       "        text-align: right;\n",
       "    }\n",
       "</style>\n",
       "<table border=\"1\" class=\"dataframe\">\n",
       "  <thead>\n",
       "    <tr style=\"text-align: right;\">\n",
       "      <th></th>\n",
       "      <th>Diabetes_012</th>\n",
       "      <th>HighBP</th>\n",
       "      <th>HighChol</th>\n",
       "      <th>CholCheck</th>\n",
       "      <th>BMI</th>\n",
       "      <th>Smoker</th>\n",
       "      <th>Stroke</th>\n",
       "      <th>HeartDiseaseorAttack</th>\n",
       "      <th>PhysActivity</th>\n",
       "      <th>Fruits</th>\n",
       "      <th>Veggies</th>\n",
       "      <th>HvyAlcoholConsump</th>\n",
       "      <th>AnyHealthcare</th>\n",
       "      <th>NoDocbcCost</th>\n",
       "      <th>GenHlth</th>\n",
       "      <th>DiffWalk</th>\n",
       "      <th>Sex</th>\n",
       "      <th>Age</th>\n",
       "      <th>Education</th>\n",
       "      <th>Income</th>\n",
       "    </tr>\n",
       "  </thead>\n",
       "  <tbody>\n",
       "    <tr>\n",
       "      <th>0</th>\n",
       "      <td>0.0</td>\n",
       "      <td>1.0</td>\n",
       "      <td>1.0</td>\n",
       "      <td>1.0</td>\n",
       "      <td>40.0</td>\n",
       "      <td>1.0</td>\n",
       "      <td>0.0</td>\n",
       "      <td>0.0</td>\n",
       "      <td>0.0</td>\n",
       "      <td>0.0</td>\n",
       "      <td>1.0</td>\n",
       "      <td>0.0</td>\n",
       "      <td>1.0</td>\n",
       "      <td>0.0</td>\n",
       "      <td>5.0</td>\n",
       "      <td>1.0</td>\n",
       "      <td>0.0</td>\n",
       "      <td>9.0</td>\n",
       "      <td>4.0</td>\n",
       "      <td>3.0</td>\n",
       "    </tr>\n",
       "    <tr>\n",
       "      <th>1</th>\n",
       "      <td>0.0</td>\n",
       "      <td>0.0</td>\n",
       "      <td>0.0</td>\n",
       "      <td>0.0</td>\n",
       "      <td>25.0</td>\n",
       "      <td>1.0</td>\n",
       "      <td>0.0</td>\n",
       "      <td>0.0</td>\n",
       "      <td>1.0</td>\n",
       "      <td>0.0</td>\n",
       "      <td>0.0</td>\n",
       "      <td>0.0</td>\n",
       "      <td>0.0</td>\n",
       "      <td>1.0</td>\n",
       "      <td>3.0</td>\n",
       "      <td>0.0</td>\n",
       "      <td>0.0</td>\n",
       "      <td>7.0</td>\n",
       "      <td>6.0</td>\n",
       "      <td>1.0</td>\n",
       "    </tr>\n",
       "    <tr>\n",
       "      <th>2</th>\n",
       "      <td>0.0</td>\n",
       "      <td>1.0</td>\n",
       "      <td>1.0</td>\n",
       "      <td>1.0</td>\n",
       "      <td>28.0</td>\n",
       "      <td>0.0</td>\n",
       "      <td>0.0</td>\n",
       "      <td>0.0</td>\n",
       "      <td>0.0</td>\n",
       "      <td>1.0</td>\n",
       "      <td>0.0</td>\n",
       "      <td>0.0</td>\n",
       "      <td>1.0</td>\n",
       "      <td>1.0</td>\n",
       "      <td>5.0</td>\n",
       "      <td>1.0</td>\n",
       "      <td>0.0</td>\n",
       "      <td>9.0</td>\n",
       "      <td>4.0</td>\n",
       "      <td>8.0</td>\n",
       "    </tr>\n",
       "    <tr>\n",
       "      <th>3</th>\n",
       "      <td>0.0</td>\n",
       "      <td>1.0</td>\n",
       "      <td>0.0</td>\n",
       "      <td>1.0</td>\n",
       "      <td>27.0</td>\n",
       "      <td>0.0</td>\n",
       "      <td>0.0</td>\n",
       "      <td>0.0</td>\n",
       "      <td>1.0</td>\n",
       "      <td>1.0</td>\n",
       "      <td>1.0</td>\n",
       "      <td>0.0</td>\n",
       "      <td>1.0</td>\n",
       "      <td>0.0</td>\n",
       "      <td>2.0</td>\n",
       "      <td>0.0</td>\n",
       "      <td>0.0</td>\n",
       "      <td>11.0</td>\n",
       "      <td>3.0</td>\n",
       "      <td>6.0</td>\n",
       "    </tr>\n",
       "    <tr>\n",
       "      <th>4</th>\n",
       "      <td>0.0</td>\n",
       "      <td>1.0</td>\n",
       "      <td>1.0</td>\n",
       "      <td>1.0</td>\n",
       "      <td>24.0</td>\n",
       "      <td>0.0</td>\n",
       "      <td>0.0</td>\n",
       "      <td>0.0</td>\n",
       "      <td>1.0</td>\n",
       "      <td>1.0</td>\n",
       "      <td>1.0</td>\n",
       "      <td>0.0</td>\n",
       "      <td>1.0</td>\n",
       "      <td>0.0</td>\n",
       "      <td>2.0</td>\n",
       "      <td>0.0</td>\n",
       "      <td>0.0</td>\n",
       "      <td>11.0</td>\n",
       "      <td>5.0</td>\n",
       "      <td>4.0</td>\n",
       "    </tr>\n",
       "    <tr>\n",
       "      <th>...</th>\n",
       "      <td>...</td>\n",
       "      <td>...</td>\n",
       "      <td>...</td>\n",
       "      <td>...</td>\n",
       "      <td>...</td>\n",
       "      <td>...</td>\n",
       "      <td>...</td>\n",
       "      <td>...</td>\n",
       "      <td>...</td>\n",
       "      <td>...</td>\n",
       "      <td>...</td>\n",
       "      <td>...</td>\n",
       "      <td>...</td>\n",
       "      <td>...</td>\n",
       "      <td>...</td>\n",
       "      <td>...</td>\n",
       "      <td>...</td>\n",
       "      <td>...</td>\n",
       "      <td>...</td>\n",
       "      <td>...</td>\n",
       "    </tr>\n",
       "    <tr>\n",
       "      <th>465629</th>\n",
       "      <td>2.0</td>\n",
       "      <td>1.0</td>\n",
       "      <td>1.0</td>\n",
       "      <td>1.0</td>\n",
       "      <td>21.0</td>\n",
       "      <td>1.0</td>\n",
       "      <td>1.0</td>\n",
       "      <td>0.0</td>\n",
       "      <td>1.0</td>\n",
       "      <td>1.0</td>\n",
       "      <td>1.0</td>\n",
       "      <td>0.0</td>\n",
       "      <td>1.0</td>\n",
       "      <td>0.0</td>\n",
       "      <td>3.0</td>\n",
       "      <td>0.0</td>\n",
       "      <td>0.0</td>\n",
       "      <td>13.0</td>\n",
       "      <td>4.0</td>\n",
       "      <td>5.0</td>\n",
       "    </tr>\n",
       "    <tr>\n",
       "      <th>465630</th>\n",
       "      <td>2.0</td>\n",
       "      <td>1.0</td>\n",
       "      <td>1.0</td>\n",
       "      <td>1.0</td>\n",
       "      <td>29.0</td>\n",
       "      <td>1.0</td>\n",
       "      <td>0.0</td>\n",
       "      <td>0.0</td>\n",
       "      <td>1.0</td>\n",
       "      <td>0.0</td>\n",
       "      <td>1.0</td>\n",
       "      <td>0.0</td>\n",
       "      <td>1.0</td>\n",
       "      <td>0.0</td>\n",
       "      <td>4.0</td>\n",
       "      <td>1.0</td>\n",
       "      <td>0.0</td>\n",
       "      <td>10.0</td>\n",
       "      <td>6.0</td>\n",
       "      <td>3.0</td>\n",
       "    </tr>\n",
       "    <tr>\n",
       "      <th>465631</th>\n",
       "      <td>2.0</td>\n",
       "      <td>1.0</td>\n",
       "      <td>1.0</td>\n",
       "      <td>1.0</td>\n",
       "      <td>29.0</td>\n",
       "      <td>1.0</td>\n",
       "      <td>0.0</td>\n",
       "      <td>0.0</td>\n",
       "      <td>0.0</td>\n",
       "      <td>1.0</td>\n",
       "      <td>1.0</td>\n",
       "      <td>0.0</td>\n",
       "      <td>1.0</td>\n",
       "      <td>1.0</td>\n",
       "      <td>4.0</td>\n",
       "      <td>1.0</td>\n",
       "      <td>0.0</td>\n",
       "      <td>11.0</td>\n",
       "      <td>3.0</td>\n",
       "      <td>4.0</td>\n",
       "    </tr>\n",
       "    <tr>\n",
       "      <th>465632</th>\n",
       "      <td>2.0</td>\n",
       "      <td>0.0</td>\n",
       "      <td>0.0</td>\n",
       "      <td>1.0</td>\n",
       "      <td>31.0</td>\n",
       "      <td>0.0</td>\n",
       "      <td>1.0</td>\n",
       "      <td>1.0</td>\n",
       "      <td>1.0</td>\n",
       "      <td>1.0</td>\n",
       "      <td>1.0</td>\n",
       "      <td>0.0</td>\n",
       "      <td>1.0</td>\n",
       "      <td>0.0</td>\n",
       "      <td>3.0</td>\n",
       "      <td>1.0</td>\n",
       "      <td>0.0</td>\n",
       "      <td>11.0</td>\n",
       "      <td>6.0</td>\n",
       "      <td>8.0</td>\n",
       "    </tr>\n",
       "    <tr>\n",
       "      <th>465633</th>\n",
       "      <td>2.0</td>\n",
       "      <td>1.0</td>\n",
       "      <td>1.0</td>\n",
       "      <td>1.0</td>\n",
       "      <td>27.0</td>\n",
       "      <td>1.0</td>\n",
       "      <td>0.0</td>\n",
       "      <td>0.0</td>\n",
       "      <td>0.0</td>\n",
       "      <td>0.0</td>\n",
       "      <td>0.0</td>\n",
       "      <td>0.0</td>\n",
       "      <td>1.0</td>\n",
       "      <td>1.0</td>\n",
       "      <td>5.0</td>\n",
       "      <td>1.0</td>\n",
       "      <td>1.0</td>\n",
       "      <td>8.0</td>\n",
       "      <td>4.0</td>\n",
       "      <td>3.0</td>\n",
       "    </tr>\n",
       "  </tbody>\n",
       "</table>\n",
       "<p>465634 rows × 20 columns</p>\n",
       "</div>"
      ],
      "text/plain": [
       "        Diabetes_012  HighBP  HighChol  CholCheck   BMI  Smoker  Stroke  \\\n",
       "0                0.0     1.0       1.0        1.0  40.0     1.0     0.0   \n",
       "1                0.0     0.0       0.0        0.0  25.0     1.0     0.0   \n",
       "2                0.0     1.0       1.0        1.0  28.0     0.0     0.0   \n",
       "3                0.0     1.0       0.0        1.0  27.0     0.0     0.0   \n",
       "4                0.0     1.0       1.0        1.0  24.0     0.0     0.0   \n",
       "...              ...     ...       ...        ...   ...     ...     ...   \n",
       "465629           2.0     1.0       1.0        1.0  21.0     1.0     1.0   \n",
       "465630           2.0     1.0       1.0        1.0  29.0     1.0     0.0   \n",
       "465631           2.0     1.0       1.0        1.0  29.0     1.0     0.0   \n",
       "465632           2.0     0.0       0.0        1.0  31.0     0.0     1.0   \n",
       "465633           2.0     1.0       1.0        1.0  27.0     1.0     0.0   \n",
       "\n",
       "        HeartDiseaseorAttack  PhysActivity  Fruits  Veggies  \\\n",
       "0                        0.0           0.0     0.0      1.0   \n",
       "1                        0.0           1.0     0.0      0.0   \n",
       "2                        0.0           0.0     1.0      0.0   \n",
       "3                        0.0           1.0     1.0      1.0   \n",
       "4                        0.0           1.0     1.0      1.0   \n",
       "...                      ...           ...     ...      ...   \n",
       "465629                   0.0           1.0     1.0      1.0   \n",
       "465630                   0.0           1.0     0.0      1.0   \n",
       "465631                   0.0           0.0     1.0      1.0   \n",
       "465632                   1.0           1.0     1.0      1.0   \n",
       "465633                   0.0           0.0     0.0      0.0   \n",
       "\n",
       "        HvyAlcoholConsump  AnyHealthcare  NoDocbcCost  GenHlth  DiffWalk  Sex  \\\n",
       "0                     0.0            1.0          0.0      5.0       1.0  0.0   \n",
       "1                     0.0            0.0          1.0      3.0       0.0  0.0   \n",
       "2                     0.0            1.0          1.0      5.0       1.0  0.0   \n",
       "3                     0.0            1.0          0.0      2.0       0.0  0.0   \n",
       "4                     0.0            1.0          0.0      2.0       0.0  0.0   \n",
       "...                   ...            ...          ...      ...       ...  ...   \n",
       "465629                0.0            1.0          0.0      3.0       0.0  0.0   \n",
       "465630                0.0            1.0          0.0      4.0       1.0  0.0   \n",
       "465631                0.0            1.0          1.0      4.0       1.0  0.0   \n",
       "465632                0.0            1.0          0.0      3.0       1.0  0.0   \n",
       "465633                0.0            1.0          1.0      5.0       1.0  1.0   \n",
       "\n",
       "         Age  Education  Income  \n",
       "0        9.0        4.0     3.0  \n",
       "1        7.0        6.0     1.0  \n",
       "2        9.0        4.0     8.0  \n",
       "3       11.0        3.0     6.0  \n",
       "4       11.0        5.0     4.0  \n",
       "...      ...        ...     ...  \n",
       "465629  13.0        4.0     5.0  \n",
       "465630  10.0        6.0     3.0  \n",
       "465631  11.0        3.0     4.0  \n",
       "465632  11.0        6.0     8.0  \n",
       "465633   8.0        4.0     3.0  \n",
       "\n",
       "[465634 rows x 20 columns]"
      ]
     },
     "execution_count": 23,
     "metadata": {},
     "output_type": "execute_result"
    }
   ],
   "source": [
    "df"
   ]
  },
  {
   "cell_type": "markdown",
   "id": "7260a74b",
   "metadata": {},
   "source": [
    "Function to do feature selection"
   ]
  },
  {
   "cell_type": "code",
   "execution_count": 24,
   "id": "bae06ebc",
   "metadata": {},
   "outputs": [],
   "source": [
    "# feature selection\n",
    "def select_features(X_train, y_train, X_test, order, ntop=\"all\"):\n",
    "\t# configure to select a subset of features\n",
    "\tfs = SelectKBest(score_func=order, k=ntop)\n",
    "\t\n",
    "    # learn relationship from training data\n",
    "\tfs.fit(X_train, y_train)\n",
    "\t\n",
    "    # transform train input data\n",
    "\tX_train_fs = fs.transform(X_train)\n",
    "\t\n",
    "    # transform test input data\n",
    "\tX_test_fs = fs.transform(X_test)\n",
    "\treturn X_train_fs, X_test_fs, fs"
   ]
  },
  {
   "cell_type": "markdown",
   "id": "f719be40",
   "metadata": {},
   "source": [
    "### Mutual Information"
   ]
  },
  {
   "cell_type": "markdown",
   "id": "8925fa7a",
   "metadata": {},
   "source": [
    "From the bar-chart shown below, we can see that there are about 12 features that have high enough score, while the others are rather low. The score describes how strength the relationship between the feature and output, which the higher it gets, than the more strength the relationship is built. "
   ]
  },
  {
   "cell_type": "code",
   "execution_count": 25,
   "id": "73186108",
   "metadata": {},
   "outputs": [
    {
     "name": "stdout",
     "output_type": "stream",
     "text": [
      "Feature 0: 0.052562\n",
      "Feature 1: 0.038181\n",
      "Feature 2: 0.031328\n",
      "Feature 3: 0.038318\n",
      "Feature 4: 0.007788\n",
      "Feature 5: 0.006018\n",
      "Feature 6: 0.014592\n",
      "Feature 7: 0.019836\n",
      "Feature 8: 0.008967\n",
      "Feature 9: 0.016289\n",
      "Feature 10: 0.000964\n",
      "Feature 11: 0.027111\n",
      "Feature 12: 0.002309\n",
      "Feature 13: 0.060654\n",
      "Feature 14: 0.022843\n",
      "Feature 15: 0.005879\n",
      "Feature 16: 0.038954\n",
      "Feature 17: 0.016852\n",
      "Feature 18: 0.022249\n"
     ]
    },
    {
     "data": {
      "text/plain": [
       "[Text(0.5, 1.0, 'Mutual Information for Features')]"
      ]
     },
     "execution_count": 25,
     "metadata": {},
     "output_type": "execute_result"
    },
    {
     "data": {
      "image/png": "[encoded data removed]",
      "text/plain": [
       "<Figure size 1080x648 with 1 Axes>"
      ]
     },
     "metadata": {
      "needs_background": "light"
     },
     "output_type": "display_data"
    }
   ],
   "source": [
    "# Split data into input and outputs\n",
    "X, y = df.iloc[:, 1:], df[\"Diabetes_012\"]\n",
    "\n",
    "# Split into train and test sets\n",
    "X_train, X_test, y_train, y_test = train_test_split(X, y, test_size=0.33, random_state=1)\n",
    "\n",
    "# Feature selection\n",
    "X_train_fs, X_test_fs, fs = select_features(X_train, y_train, X_test, order=mutual_info_classif)\n",
    "\n",
    "# Print scores for the features\n",
    "for i in range(len(fs.scores_)):\n",
    "\tprint('Feature %d: %f' % (i, fs.scores_[i]))\n",
    "\n",
    "# Plot the scores\n",
    "plt.figure(figsize=(15,9))\n",
    "sns.barplot(x=pd.Series([i for i in range(len(fs.scores_))], name=\"Feature\"), y=pd.Series([scr for scr in fs.scores_], name=\"Score\"), width=0.9).set(title='Mutual Information for Features')"
   ]
  },
  {
   "cell_type": "markdown",
   "id": "d81a6fb9",
   "metadata": {},
   "source": [
    "### Chi-Squared"
   ]
  },
  {
   "cell_type": "markdown",
   "id": "47265abe",
   "metadata": {},
   "source": [
    "Different with what MI have been shown, the bar-chart resulted by Chi-Squared has more low-score-features."
   ]
  },
  {
   "cell_type": "code",
   "execution_count": 26,
   "id": "5e1d9c5e",
   "metadata": {},
   "outputs": [
    {
     "name": "stdout",
     "output_type": "stream",
     "text": [
      "Feature 0: 12151.327724\n",
      "Feature 1: 8616.260773\n",
      "Feature 2: 104.919749\n",
      "Feature 3: 20636.099850\n",
      "Feature 4: 488.609328\n",
      "Feature 5: 2957.765216\n",
      "Feature 6: 7545.756536\n",
      "Feature 7: 1203.490436\n",
      "Feature 8: 95.719683\n",
      "Feature 9: 154.471062\n",
      "Feature 10: 2079.786552\n",
      "Feature 11: 13.713344\n",
      "Feature 12: 861.562560\n",
      "Feature 13: 12911.665751\n",
      "Feature 14: 10589.536307\n",
      "Feature 15: 277.777974\n",
      "Feature 16: 17214.576405\n",
      "Feature 17: 1092.688718\n",
      "Feature 18: 7768.752140\n"
     ]
    },
    {
     "data": {
      "text/plain": [
       "[Text(0.5, 1.0, 'Chi-Squared for Features')]"
      ]
     },
     "execution_count": 26,
     "metadata": {},
     "output_type": "execute_result"
    },
    {
     "data": {
      "image/png": "[encoded data removed]",
      "text/plain": [
       "<Figure size 1080x648 with 1 Axes>"
      ]
     },
     "metadata": {
      "needs_background": "light"
     },
     "output_type": "display_data"
    }
   ],
   "source": [
    "# Split data into input and outputs\n",
    "X, y = df.iloc[:, 1:], df[\"Diabetes_012\"]\n",
    "\n",
    "# Split into train and test sets\n",
    "X_train, X_test, y_train, y_test = train_test_split(X, y, test_size=0.33, random_state=1)\n",
    "\n",
    "# Feature selection\n",
    "X_train_fs, X_test_fs, fs = select_features(X_train, y_train, X_test, order=chi2)\n",
    "\n",
    "# Print scores for the features\n",
    "for i in range(len(fs.scores_)):\n",
    "\tprint('Feature %d: %f' % (i, fs.scores_[i]))\n",
    "\n",
    "# Plot the scores\n",
    "plt.figure(figsize=(15,9))\n",
    "sns.barplot(x=pd.Series([i for i in range(len(fs.scores_))], name=\"Feature\"), y=pd.Series([scr for scr in fs.scores_], name=\"Score\"), width=0.9).set(title='Chi-Squared for Features')"
   ]
  },
  {
   "cell_type": "markdown",
   "id": "1e1e51f8",
   "metadata": {},
   "source": [
    "### ANOVA (Analysis of Variance)"
   ]
  },
  {
   "cell_type": "code",
   "execution_count": 27,
   "id": "4bc75fa5",
   "metadata": {},
   "outputs": [
    {
     "name": "stdout",
     "output_type": "stream",
     "text": [
      "Feature 0: 15385.781555\n",
      "Feature 1: 9999.437184\n",
      "Feature 2: 2106.008291\n",
      "Feature 3: 10368.548842\n",
      "Feature 4: 475.620359\n",
      "Feature 5: 1585.937032\n",
      "Feature 6: 4508.284818\n",
      "Feature 7: 2002.432422\n",
      "Feature 8: 120.992591\n",
      "Feature 9: 352.349372\n",
      "Feature 10: 1100.738687\n",
      "Feature 11: 133.273812\n",
      "Feature 12: 484.182167\n",
      "Feature 13: 17698.352621\n",
      "Feature 14: 7400.950243\n",
      "Feature 15: 251.139102\n",
      "Feature 16: 9562.715523\n",
      "Feature 17: 2507.955915\n",
      "Feature 18: 4719.638972\n"
     ]
    },
    {
     "data": {
      "text/plain": [
       "[Text(0.5, 1.0, 'ANOVA for Features')]"
      ]
     },
     "execution_count": 27,
     "metadata": {},
     "output_type": "execute_result"
    },
    {
     "data": {
      "image/png": "[encoded data removed]",
      "text/plain": [
       "<Figure size 1080x648 with 1 Axes>"
      ]
     },
     "metadata": {
      "needs_background": "light"
     },
     "output_type": "display_data"
    }
   ],
   "source": [
    "# Split data into input and outputs\n",
    "X, y = df.iloc[:, 1:], df[\"Diabetes_012\"]\n",
    "\n",
    "# Split into train and test sets\n",
    "X_train, X_test, y_train, y_test = train_test_split(X, y, test_size=0.33, random_state=1)\n",
    "\n",
    "# Feature selection\n",
    "X_train_fs, X_test_fs, fs = select_features(X_train, y_train, X_test, order=f_classif)\n",
    "\n",
    "# Print scores for the features\n",
    "for i in range(len(fs.scores_)):\n",
    "\tprint('Feature %d: %f' % (i, fs.scores_[i]))\n",
    "\n",
    "# Plot the scores\n",
    "plt.figure(figsize=(15,9))\n",
    "sns.barplot(x=pd.Series([i for i in range(len(fs.scores_))], name=\"Feature\"), y=pd.Series([scr for scr in fs.scores_], name=\"Score\"), width=0.9).set(title='ANOVA for Features')"
   ]
  },
  {
   "cell_type": "markdown",
   "id": "8e2dd550",
   "metadata": {},
   "source": [
    "### Evaluation to Categorical-Categorical"
   ]
  },
  {
   "cell_type": "markdown",
   "id": "e20b2eab",
   "metadata": {},
   "source": [
    "#### Initial Accuracy"
   ]
  },
  {
   "cell_type": "code",
   "execution_count": 28,
   "id": "3cf8b7e6",
   "metadata": {},
   "outputs": [
    {
     "name": "stdout",
     "output_type": "stream",
     "text": [
      "Accuracy: 51.99\n"
     ]
    }
   ],
   "source": [
    "# Split data into input and outputs\n",
    "X, y = df.iloc[:, 1:], df[\"Diabetes_012\"]\n",
    "\n",
    "# Split into train and test sets\n",
    "X_train, X_test, y_train, y_test = train_test_split(X, y, test_size=0.33, random_state=1)\n",
    "\n",
    "# Fit the model\n",
    "model = LogisticRegression(solver='lbfgs', max_iter=100000)\n",
    "model.fit(X_train, y_train)\n",
    "\n",
    "# Evaluate the model\n",
    "yhat = model.predict(X_test)\n",
    "\n",
    "# Evaluate predictions\n",
    "accuracy_categorical_categorical = accuracy_score(y_test, yhat)*100\n",
    "print('Accuracy: %.2f' % (accuracy_categorical_categorical))"
   ]
  },
  {
   "cell_type": "markdown",
   "id": "7e1dcb44",
   "metadata": {},
   "source": [
    "#### Mutual Information Accuracy "
   ]
  },
  {
   "cell_type": "code",
   "execution_count": 29,
   "id": "4d0efe42",
   "metadata": {},
   "outputs": [
    {
     "name": "stdout",
     "output_type": "stream",
     "text": [
      "Accuracy with 14 features taken: 51.793570219966156\n",
      "Accuracy with 15 features taken: 51.73239619940128\n",
      "Accuracy with 16 features taken: 51.90875959911493\n",
      "Accuracy with 17 features taken: 51.86125211505922\n",
      "Accuracy with 18 features taken: 51.991409605622806\n",
      "Accuracy with 19 features taken: 51.985552518547436\n"
     ]
    },
    {
     "data": {
      "text/plain": [
       "<matplotlib.legend.Legend at 0x1eca2295930>"
      ]
     },
     "execution_count": 29,
     "metadata": {},
     "output_type": "execute_result"
    },
    {
     "data": {
      "image/png": "[encoded data removed]",
      "text/plain": [
       "<Figure size 1080x648 with 1 Axes>"
      ]
     },
     "metadata": {
      "needs_background": "light"
     },
     "output_type": "display_data"
    }
   ],
   "source": [
    "# Split data into input and outputs\n",
    "X, y = df.iloc[:, 1:], df[\"Diabetes_012\"]\n",
    "\n",
    "# Split into train and test sets\n",
    "X_train, X_test, y_train, y_test = train_test_split(X, y, test_size=0.33, random_state=1)\n",
    "\n",
    "# Feature selection\n",
    "ntops = [14, 15, 16, 17, 18, 19]\n",
    "accuracies = []\n",
    "for nt in ntops:\n",
    "    X_train_fs, X_test_fs, fs = select_features(X_train, y_train, X_test, order=mutual_info_classif, ntop=nt)\n",
    "\n",
    "    # Fit the model\n",
    "    model = LogisticRegression(solver='lbfgs', max_iter=100000)\n",
    "    model.fit(X_train_fs, y_train)\n",
    "\n",
    "    # Evaluate the model\n",
    "    yhat = model.predict(X_test_fs)\n",
    "\n",
    "    # Evaluate predictions\n",
    "    accuracy = accuracy_score(y_test, yhat)*100\n",
    "    accuracies.append(accuracy)\n",
    "    print(f'Accuracy with {nt} features taken: {(accuracy)}')\n",
    "    \n",
    "# Plot accuracies\n",
    "plt.figure(figsize=(15,9))\n",
    "graph = sns.lineplot(x=pd.Series(ntops, name=\"Number of Features\"), y=pd.Series(accuracies, name=\"Accuracies\"), label=\"Feature Accuracies\")\n",
    "graph.set_title(\"Mutual Information Accuracies, Between Categoricals\")\n",
    "graph.axhline(accuracy_categorical_categorical, color=\"r\", label=\"Initial Accuracy\")\n",
    "graph.legend()"
   ]
  },
  {
   "cell_type": "markdown",
   "id": "e4b709f2",
   "metadata": {},
   "source": [
    "#### Chi-Squared Accuracy "
   ]
  },
  {
   "cell_type": "code",
   "execution_count": 35,
   "id": "f58c6628",
   "metadata": {},
   "outputs": [
    {
     "name": "stdout",
     "output_type": "stream",
     "text": [
      "Accuracy with 12 features taken: 51.7005076142132\n",
      "Accuracy with 13 features taken: 51.80072888194716\n",
      "Accuracy with 14 features taken: 51.79096707015489\n",
      "Accuracy with 15 features taken: 51.86125211505922\n",
      "Accuracy with 16 features taken: 51.84563321619159\n",
      "Accuracy with 17 features taken: 51.96147338279318\n",
      "Accuracy with 18 features taken: 51.9224261356241\n",
      "Accuracy with 19 features taken: 51.985552518547436\n"
     ]
    },
    {
     "data": {
      "text/plain": [
       "<matplotlib.legend.Legend at 0x1eca230b700>"
      ]
     },
     "execution_count": 35,
     "metadata": {},
     "output_type": "execute_result"
    },
    {
     "data": {
      "image/png": "[encoded data removed]",
      "text/plain": [
       "<Figure size 1080x648 with 1 Axes>"
      ]
     },
     "metadata": {
      "needs_background": "light"
     },
     "output_type": "display_data"
    }
   ],
   "source": [
    "# Split data into input and outputs\n",
    "X, y = df.iloc[:, 1:], df[\"Diabetes_012\"]\n",
    "\n",
    "# Split into train and test sets\n",
    "X_train, X_test, y_train, y_test = train_test_split(X, y, test_size=0.33, random_state=1)\n",
    "\n",
    "# Feature selection\n",
    "ntops = [12, 13, 14, 15, 16, 17, 18, 19]\n",
    "accuracies = []\n",
    "for nt in ntops:\n",
    "    X_train_fs, X_test_fs, fs = select_features(X_train, y_train, X_test, order=chi2, ntop=nt)\n",
    "\n",
    "    # Fit the model\n",
    "    model = LogisticRegression(solver='lbfgs', max_iter=100000)\n",
    "    model.fit(X_train_fs, y_train)\n",
    "\n",
    "    # Evaluate the model\n",
    "    yhat = model.predict(X_test_fs)\n",
    "\n",
    "    # Evaluate predictions\n",
    "    accuracy = accuracy_score(y_test, yhat)*100\n",
    "    accuracies.append(accuracy)\n",
    "    print(f'Accuracy with {nt} features taken: {(accuracy)}')\n",
    "    \n",
    "# Plot accuracies\n",
    "plt.figure(figsize=(15,9))\n",
    "graph = sns.lineplot(x=pd.Series(ntops, name=\"Number of Features\"), y=pd.Series(accuracies, name=\"Accuracies\"), label=\"Feature Accuracies\")\n",
    "graph.set_title(\"Chi-Squared Accuracies\")\n",
    "graph.axhline(accuracy_categorical_categorical, color=\"r\", label=\"Initial Accuracy\")\n",
    "graph.legend()"
   ]
  },
  {
   "cell_type": "markdown",
   "id": "46c85d7a",
   "metadata": {},
   "source": [
    "### Evaluation to Categorical-Numerical"
   ]
  },
  {
   "cell_type": "markdown",
   "id": "ca6d65b7",
   "metadata": {},
   "source": [
    "#### Initial Accuracy"
   ]
  },
  {
   "cell_type": "code",
   "execution_count": 31,
   "id": "4bfd7282",
   "metadata": {},
   "outputs": [
    {
     "name": "stdout",
     "output_type": "stream",
     "text": [
      "Accuracy: 51.77\n"
     ]
    }
   ],
   "source": [
    "# Split data into input and outputs\n",
    "X, y = df.iloc[:, 1:], df[\"Diabetes_012\"]\n",
    "\n",
    "# Split into train and test sets\n",
    "X_train, X_test, y_train, y_test = train_test_split(X, y, test_size=0.33, random_state=1)\n",
    "\n",
    "# Fit the model\n",
    "model = LogisticRegression(solver='liblinear', max_iter=100000)\n",
    "model.fit(X_train, y_train)\n",
    "\n",
    "# Evaluate the model\n",
    "yhat = model.predict(X_test)\n",
    "\n",
    "# Evaluate predictions\n",
    "accuracy_categorical_numerical = accuracy_score(y_test, yhat)*100\n",
    "print('Accuracy: %.2f' % (accuracy_categorical_numerical))"
   ]
  },
  {
   "cell_type": "markdown",
   "id": "5487e736",
   "metadata": {},
   "source": [
    "#### Mutual Information Accuracy "
   ]
  },
  {
   "cell_type": "code",
   "execution_count": 32,
   "id": "8cbcb3c5",
   "metadata": {},
   "outputs": [
    {
     "name": "stdout",
     "output_type": "stream",
     "text": [
      "Accuracy with 14 features taken: 51.535207601197456\n",
      "Accuracy with 15 features taken: 51.52414421449954\n",
      "Accuracy with 16 features taken: 51.54041390081999\n",
      "Accuracy with 17 features taken: 51.69269816477938\n",
      "Accuracy with 18 features taken: 51.61785760770532\n",
      "Accuracy with 19 features taken: 51.772745021475984\n"
     ]
    },
    {
     "data": {
      "text/plain": [
       "<matplotlib.legend.Legend at 0x1eca22c63e0>"
      ]
     },
     "execution_count": 32,
     "metadata": {},
     "output_type": "execute_result"
    },
    {
     "data": {
      "image/png": "[encoded data removed]",
      "text/plain": [
       "<Figure size 1080x648 with 1 Axes>"
      ]
     },
     "metadata": {
      "needs_background": "light"
     },
     "output_type": "display_data"
    }
   ],
   "source": [
    "# Split data into input and outputs\n",
    "X, y = df.iloc[:, 1:], df[\"Diabetes_012\"]\n",
    "\n",
    "# Split into train and test sets\n",
    "X_train, X_test, y_train, y_test = train_test_split(X, y, test_size=0.33, random_state=1)\n",
    "\n",
    "# Feature selection\n",
    "ntops = [14, 15, 16, 17, 18, 19]\n",
    "accuracies = []\n",
    "for nt in ntops:\n",
    "    X_train_fs, X_test_fs, fs = select_features(X_train, y_train, X_test, order=mutual_info_classif, ntop=nt)\n",
    "\n",
    "    # Fit the model\n",
    "    model = LogisticRegression(solver='liblinear', max_iter=100000)\n",
    "    model.fit(X_train_fs, y_train)\n",
    "\n",
    "    # Evaluate the model\n",
    "    yhat = model.predict(X_test_fs)\n",
    "\n",
    "    # Evaluate predictions\n",
    "    accuracy = accuracy_score(y_test, yhat)*100\n",
    "    accuracies.append(accuracy)\n",
    "    print(f'Accuracy with {nt} features taken: {(accuracy)}')\n",
    "    \n",
    "# Plot accuracies\n",
    "plt.figure(figsize=(15,9))\n",
    "graph = sns.lineplot(x=pd.Series(ntops, name=\"Number of Features\"), y=pd.Series(accuracies, name=\"Accuracies\"), label=\"Feature Accuracies\")\n",
    "graph.set_title(\"Mutual Information Accuracies, Between Categorical-Numerical\")\n",
    "graph.axhline(accuracy_categorical_numerical, color=\"r\", label=\"Initial Accuracy\")\n",
    "graph.legend()"
   ]
  },
  {
   "cell_type": "markdown",
   "id": "98fdf4cc",
   "metadata": {},
   "source": [
    "#### ANOVA Accuracy "
   ]
  },
  {
   "cell_type": "code",
   "execution_count": 33,
   "id": "323d4311",
   "metadata": {},
   "outputs": [
    {
     "name": "stdout",
     "output_type": "stream",
     "text": [
      "Accuracy with 12 features taken: 51.32890797865417\n",
      "Accuracy with 13 features taken: 51.61265130808278\n",
      "Accuracy with 14 features taken: 51.66731745411949\n",
      "Accuracy with 15 features taken: 51.72784068723155\n",
      "Accuracy with 16 features taken: 51.744110373552\n",
      "Accuracy with 17 features taken: 51.746713523363276\n",
      "Accuracy with 18 features taken: 51.753221397891444\n",
      "Accuracy with 19 features taken: 51.772745021475984\n"
     ]
    },
    {
     "data": {
      "text/plain": [
       "<matplotlib.legend.Legend at 0x1eca3e6b310>"
      ]
     },
     "execution_count": 33,
     "metadata": {},
     "output_type": "execute_result"
    },
    {
     "data": {
      "image/png": "[encoded data removed]",
      "text/plain": [
       "<Figure size 1080x648 with 1 Axes>"
      ]
     },
     "metadata": {
      "needs_background": "light"
     },
     "output_type": "display_data"
    }
   ],
   "source": [
    "# Split data into input and outputs\n",
    "X, y = df.iloc[:, 1:], df[\"Diabetes_012\"]\n",
    "\n",
    "# Split into train and test sets\n",
    "X_train, X_test, y_train, y_test = train_test_split(X, y, test_size=0.33, random_state=1)\n",
    "\n",
    "# Feature selection\n",
    "ntops = [12, 13, 14, 15, 16, 17, 18, 19]\n",
    "accuracies = []\n",
    "for nt in ntops:\n",
    "    X_train_fs, X_test_fs, fs = select_features(X_train, y_train, X_test, order=f_classif, ntop=nt)\n",
    "\n",
    "    # Fit the model\n",
    "    model = LogisticRegression(solver='liblinear', max_iter=100000)\n",
    "    model.fit(X_train_fs, y_train)\n",
    "\n",
    "    # Evaluate the model\n",
    "    yhat = model.predict(X_test_fs)\n",
    "\n",
    "    # Evaluate predictions\n",
    "    accuracy = accuracy_score(y_test, yhat)*100\n",
    "    accuracies.append(accuracy)\n",
    "    print(f'Accuracy with {nt} features taken: {(accuracy)}')\n",
    "    \n",
    "# Plot accuracies\n",
    "plt.figure(figsize=(15,9))\n",
    "graph = sns.lineplot(x=pd.Series(ntops, name=\"Number of Features\"), y=pd.Series(accuracies, name=\"Accuracies\"), label=\"Feature Accuracies\")\n",
    "graph.set_title(\"ANOVA Accuracies\")\n",
    "graph.axhline(accuracy_categorical_numerical, color=\"r\", label=\"Initial Accuracy\")\n",
    "graph.legend()"
   ]
  },
  {
   "cell_type": "markdown",
   "id": "4a30a108",
   "metadata": {},
   "source": [
    "#### Final Feature Selection "
   ]
  },
  {
   "cell_type": "markdown",
   "id": "56ca5e8a",
   "metadata": {},
   "source": [
    "After seeing the evaluation results, I decided to use ANOVA for the feature selection because It is the only one that has fewest number of features, yet still has high enough accuracy compared to the initial value "
   ]
  },
  {
   "cell_type": "code",
   "execution_count": 129,
   "id": "419e5477",
   "metadata": {},
   "outputs": [],
   "source": [
    "# Split data into input and outputs\n",
    "X, y = df.iloc[:, 1:], df[\"Diabetes_012\"]\n",
    "XColumns = X.columns\n",
    "\n",
    "# Split into train and test sets\n",
    "X_train, X_test, y_train, y_test = train_test_split(X, y, test_size=0.33, random_state=1)\n",
    "\n",
    "# ANOVA with 15 features\n",
    "X_train_fs, X_test_fs, fs = select_features(X_train, y_train, X_test, order=f_classif, ntop=15)\n",
    "\n",
    "# get top 15 column names\n",
    "theDict = {}\n",
    "for i in range(len(fs.scores_)):\n",
    "    theDict[fs.scores_[i]] = i\n",
    "sortedValues = sorted(theDict.keys(), reverse=True)\n",
    "top15columns = [XColumns[theDict[sortedValues[i]]] for i in range(15)]\n",
    "\n",
    "# Manage new df with top 15 columns\n",
    "df = df[top15columns]\n",
    "df = pd.concat([y, df], axis=1)"
   ]
  },
  {
   "cell_type": "code",
   "execution_count": 138,
   "id": "fd07b32c",
   "metadata": {},
   "outputs": [
    {
     "data": {
      "text/html": [
       "<div>\n",
       "<style scoped>\n",
       "    .dataframe tbody tr th:only-of-type {\n",
       "        vertical-align: middle;\n",
       "    }\n",
       "\n",
       "    .dataframe tbody tr th {\n",
       "        vertical-align: top;\n",
       "    }\n",
       "\n",
       "    .dataframe thead th {\n",
       "        text-align: right;\n",
       "    }\n",
       "</style>\n",
       "<table border=\"1\" class=\"dataframe\">\n",
       "  <thead>\n",
       "    <tr style=\"text-align: right;\">\n",
       "      <th></th>\n",
       "      <th>Diabetes_012</th>\n",
       "      <th>GenHlth</th>\n",
       "      <th>HighBP</th>\n",
       "      <th>BMI</th>\n",
       "      <th>HighChol</th>\n",
       "      <th>Age</th>\n",
       "      <th>DiffWalk</th>\n",
       "      <th>Income</th>\n",
       "      <th>HeartDiseaseorAttack</th>\n",
       "      <th>Education</th>\n",
       "      <th>CholCheck</th>\n",
       "      <th>PhysActivity</th>\n",
       "      <th>Stroke</th>\n",
       "      <th>HvyAlcoholConsump</th>\n",
       "      <th>NoDocbcCost</th>\n",
       "      <th>Smoker</th>\n",
       "    </tr>\n",
       "  </thead>\n",
       "  <tbody>\n",
       "    <tr>\n",
       "      <th>0</th>\n",
       "      <td>0.0</td>\n",
       "      <td>5.0</td>\n",
       "      <td>1.0</td>\n",
       "      <td>40.0</td>\n",
       "      <td>1.0</td>\n",
       "      <td>9.0</td>\n",
       "      <td>1.0</td>\n",
       "      <td>3.0</td>\n",
       "      <td>0.0</td>\n",
       "      <td>4.0</td>\n",
       "      <td>1.0</td>\n",
       "      <td>0.0</td>\n",
       "      <td>0.0</td>\n",
       "      <td>0.0</td>\n",
       "      <td>0.0</td>\n",
       "      <td>1.0</td>\n",
       "    </tr>\n",
       "    <tr>\n",
       "      <th>1</th>\n",
       "      <td>0.0</td>\n",
       "      <td>3.0</td>\n",
       "      <td>0.0</td>\n",
       "      <td>25.0</td>\n",
       "      <td>0.0</td>\n",
       "      <td>7.0</td>\n",
       "      <td>0.0</td>\n",
       "      <td>1.0</td>\n",
       "      <td>0.0</td>\n",
       "      <td>6.0</td>\n",
       "      <td>0.0</td>\n",
       "      <td>1.0</td>\n",
       "      <td>0.0</td>\n",
       "      <td>0.0</td>\n",
       "      <td>1.0</td>\n",
       "      <td>1.0</td>\n",
       "    </tr>\n",
       "    <tr>\n",
       "      <th>2</th>\n",
       "      <td>0.0</td>\n",
       "      <td>5.0</td>\n",
       "      <td>1.0</td>\n",
       "      <td>28.0</td>\n",
       "      <td>1.0</td>\n",
       "      <td>9.0</td>\n",
       "      <td>1.0</td>\n",
       "      <td>8.0</td>\n",
       "      <td>0.0</td>\n",
       "      <td>4.0</td>\n",
       "      <td>1.0</td>\n",
       "      <td>0.0</td>\n",
       "      <td>0.0</td>\n",
       "      <td>0.0</td>\n",
       "      <td>1.0</td>\n",
       "      <td>0.0</td>\n",
       "    </tr>\n",
       "    <tr>\n",
       "      <th>3</th>\n",
       "      <td>0.0</td>\n",
       "      <td>2.0</td>\n",
       "      <td>1.0</td>\n",
       "      <td>27.0</td>\n",
       "      <td>0.0</td>\n",
       "      <td>11.0</td>\n",
       "      <td>0.0</td>\n",
       "      <td>6.0</td>\n",
       "      <td>0.0</td>\n",
       "      <td>3.0</td>\n",
       "      <td>1.0</td>\n",
       "      <td>1.0</td>\n",
       "      <td>0.0</td>\n",
       "      <td>0.0</td>\n",
       "      <td>0.0</td>\n",
       "      <td>0.0</td>\n",
       "    </tr>\n",
       "    <tr>\n",
       "      <th>4</th>\n",
       "      <td>0.0</td>\n",
       "      <td>2.0</td>\n",
       "      <td>1.0</td>\n",
       "      <td>24.0</td>\n",
       "      <td>1.0</td>\n",
       "      <td>11.0</td>\n",
       "      <td>0.0</td>\n",
       "      <td>4.0</td>\n",
       "      <td>0.0</td>\n",
       "      <td>5.0</td>\n",
       "      <td>1.0</td>\n",
       "      <td>1.0</td>\n",
       "      <td>0.0</td>\n",
       "      <td>0.0</td>\n",
       "      <td>0.0</td>\n",
       "      <td>0.0</td>\n",
       "    </tr>\n",
       "    <tr>\n",
       "      <th>...</th>\n",
       "      <td>...</td>\n",
       "      <td>...</td>\n",
       "      <td>...</td>\n",
       "      <td>...</td>\n",
       "      <td>...</td>\n",
       "      <td>...</td>\n",
       "      <td>...</td>\n",
       "      <td>...</td>\n",
       "      <td>...</td>\n",
       "      <td>...</td>\n",
       "      <td>...</td>\n",
       "      <td>...</td>\n",
       "      <td>...</td>\n",
       "      <td>...</td>\n",
       "      <td>...</td>\n",
       "      <td>...</td>\n",
       "    </tr>\n",
       "    <tr>\n",
       "      <th>465629</th>\n",
       "      <td>2.0</td>\n",
       "      <td>3.0</td>\n",
       "      <td>1.0</td>\n",
       "      <td>21.0</td>\n",
       "      <td>1.0</td>\n",
       "      <td>13.0</td>\n",
       "      <td>0.0</td>\n",
       "      <td>5.0</td>\n",
       "      <td>0.0</td>\n",
       "      <td>4.0</td>\n",
       "      <td>1.0</td>\n",
       "      <td>1.0</td>\n",
       "      <td>1.0</td>\n",
       "      <td>0.0</td>\n",
       "      <td>0.0</td>\n",
       "      <td>1.0</td>\n",
       "    </tr>\n",
       "    <tr>\n",
       "      <th>465630</th>\n",
       "      <td>2.0</td>\n",
       "      <td>4.0</td>\n",
       "      <td>1.0</td>\n",
       "      <td>29.0</td>\n",
       "      <td>1.0</td>\n",
       "      <td>10.0</td>\n",
       "      <td>1.0</td>\n",
       "      <td>3.0</td>\n",
       "      <td>0.0</td>\n",
       "      <td>6.0</td>\n",
       "      <td>1.0</td>\n",
       "      <td>1.0</td>\n",
       "      <td>0.0</td>\n",
       "      <td>0.0</td>\n",
       "      <td>0.0</td>\n",
       "      <td>1.0</td>\n",
       "    </tr>\n",
       "    <tr>\n",
       "      <th>465631</th>\n",
       "      <td>2.0</td>\n",
       "      <td>4.0</td>\n",
       "      <td>1.0</td>\n",
       "      <td>29.0</td>\n",
       "      <td>1.0</td>\n",
       "      <td>11.0</td>\n",
       "      <td>1.0</td>\n",
       "      <td>4.0</td>\n",
       "      <td>0.0</td>\n",
       "      <td>3.0</td>\n",
       "      <td>1.0</td>\n",
       "      <td>0.0</td>\n",
       "      <td>0.0</td>\n",
       "      <td>0.0</td>\n",
       "      <td>1.0</td>\n",
       "      <td>1.0</td>\n",
       "    </tr>\n",
       "    <tr>\n",
       "      <th>465632</th>\n",
       "      <td>2.0</td>\n",
       "      <td>3.0</td>\n",
       "      <td>0.0</td>\n",
       "      <td>31.0</td>\n",
       "      <td>0.0</td>\n",
       "      <td>11.0</td>\n",
       "      <td>1.0</td>\n",
       "      <td>8.0</td>\n",
       "      <td>1.0</td>\n",
       "      <td>6.0</td>\n",
       "      <td>1.0</td>\n",
       "      <td>1.0</td>\n",
       "      <td>1.0</td>\n",
       "      <td>0.0</td>\n",
       "      <td>0.0</td>\n",
       "      <td>0.0</td>\n",
       "    </tr>\n",
       "    <tr>\n",
       "      <th>465633</th>\n",
       "      <td>2.0</td>\n",
       "      <td>5.0</td>\n",
       "      <td>1.0</td>\n",
       "      <td>27.0</td>\n",
       "      <td>1.0</td>\n",
       "      <td>8.0</td>\n",
       "      <td>1.0</td>\n",
       "      <td>3.0</td>\n",
       "      <td>0.0</td>\n",
       "      <td>4.0</td>\n",
       "      <td>1.0</td>\n",
       "      <td>0.0</td>\n",
       "      <td>0.0</td>\n",
       "      <td>0.0</td>\n",
       "      <td>1.0</td>\n",
       "      <td>1.0</td>\n",
       "    </tr>\n",
       "  </tbody>\n",
       "</table>\n",
       "<p>465634 rows × 16 columns</p>\n",
       "</div>"
      ],
      "text/plain": [
       "        Diabetes_012  GenHlth  HighBP   BMI  HighChol   Age  DiffWalk  Income  \\\n",
       "0                0.0      5.0     1.0  40.0       1.0   9.0       1.0     3.0   \n",
       "1                0.0      3.0     0.0  25.0       0.0   7.0       0.0     1.0   \n",
       "2                0.0      5.0     1.0  28.0       1.0   9.0       1.0     8.0   \n",
       "3                0.0      2.0     1.0  27.0       0.0  11.0       0.0     6.0   \n",
       "4                0.0      2.0     1.0  24.0       1.0  11.0       0.0     4.0   \n",
       "...              ...      ...     ...   ...       ...   ...       ...     ...   \n",
       "465629           2.0      3.0     1.0  21.0       1.0  13.0       0.0     5.0   \n",
       "465630           2.0      4.0     1.0  29.0       1.0  10.0       1.0     3.0   \n",
       "465631           2.0      4.0     1.0  29.0       1.0  11.0       1.0     4.0   \n",
       "465632           2.0      3.0     0.0  31.0       0.0  11.0       1.0     8.0   \n",
       "465633           2.0      5.0     1.0  27.0       1.0   8.0       1.0     3.0   \n",
       "\n",
       "        HeartDiseaseorAttack  Education  CholCheck  PhysActivity  Stroke  \\\n",
       "0                        0.0        4.0        1.0           0.0     0.0   \n",
       "1                        0.0        6.0        0.0           1.0     0.0   \n",
       "2                        0.0        4.0        1.0           0.0     0.0   \n",
       "3                        0.0        3.0        1.0           1.0     0.0   \n",
       "4                        0.0        5.0        1.0           1.0     0.0   \n",
       "...                      ...        ...        ...           ...     ...   \n",
       "465629                   0.0        4.0        1.0           1.0     1.0   \n",
       "465630                   0.0        6.0        1.0           1.0     0.0   \n",
       "465631                   0.0        3.0        1.0           0.0     0.0   \n",
       "465632                   1.0        6.0        1.0           1.0     1.0   \n",
       "465633                   0.0        4.0        1.0           0.0     0.0   \n",
       "\n",
       "        HvyAlcoholConsump  NoDocbcCost  Smoker  \n",
       "0                     0.0          0.0     1.0  \n",
       "1                     0.0          1.0     1.0  \n",
       "2                     0.0          1.0     0.0  \n",
       "3                     0.0          0.0     0.0  \n",
       "4                     0.0          0.0     0.0  \n",
       "...                   ...          ...     ...  \n",
       "465629                0.0          0.0     1.0  \n",
       "465630                0.0          0.0     1.0  \n",
       "465631                0.0          1.0     1.0  \n",
       "465632                0.0          0.0     0.0  \n",
       "465633                0.0          1.0     1.0  \n",
       "\n",
       "[465634 rows x 16 columns]"
      ]
     },
     "execution_count": 138,
     "metadata": {},
     "output_type": "execute_result"
    }
   ],
   "source": [
    "df"
   ]
  },
  {
   "cell_type": "markdown",
   "id": "e1713b4e",
   "metadata": {},
   "source": [
    "# Analysis and Interpret Data"
   ]
  },
  {
   "cell_type": "code",
   "execution_count": 139,
   "id": "745b363a",
   "metadata": {
    "scrolled": true
   },
   "outputs": [
    {
     "data": {
      "text/html": [
       "<div>\n",
       "<style scoped>\n",
       "    .dataframe tbody tr th:only-of-type {\n",
       "        vertical-align: middle;\n",
       "    }\n",
       "\n",
       "    .dataframe tbody tr th {\n",
       "        vertical-align: top;\n",
       "    }\n",
       "\n",
       "    .dataframe thead th {\n",
       "        text-align: right;\n",
       "    }\n",
       "</style>\n",
       "<table border=\"1\" class=\"dataframe\">\n",
       "  <thead>\n",
       "    <tr style=\"text-align: right;\">\n",
       "      <th></th>\n",
       "      <th>Diabetes_012</th>\n",
       "      <th>GenHlth</th>\n",
       "      <th>HighBP</th>\n",
       "      <th>BMI</th>\n",
       "      <th>HighChol</th>\n",
       "      <th>Age</th>\n",
       "      <th>DiffWalk</th>\n",
       "      <th>Income</th>\n",
       "      <th>HeartDiseaseorAttack</th>\n",
       "      <th>Education</th>\n",
       "      <th>CholCheck</th>\n",
       "      <th>PhysActivity</th>\n",
       "      <th>Stroke</th>\n",
       "      <th>HvyAlcoholConsump</th>\n",
       "      <th>NoDocbcCost</th>\n",
       "      <th>Smoker</th>\n",
       "    </tr>\n",
       "  </thead>\n",
       "  <tbody>\n",
       "    <tr>\n",
       "      <th>0</th>\n",
       "      <td>0.0</td>\n",
       "      <td>5.0</td>\n",
       "      <td>1.0</td>\n",
       "      <td>40.0</td>\n",
       "      <td>1.0</td>\n",
       "      <td>9.0</td>\n",
       "      <td>1.0</td>\n",
       "      <td>3.0</td>\n",
       "      <td>0.0</td>\n",
       "      <td>4.0</td>\n",
       "      <td>1.0</td>\n",
       "      <td>0.0</td>\n",
       "      <td>0.0</td>\n",
       "      <td>0.0</td>\n",
       "      <td>0.0</td>\n",
       "      <td>1.0</td>\n",
       "    </tr>\n",
       "    <tr>\n",
       "      <th>1</th>\n",
       "      <td>0.0</td>\n",
       "      <td>3.0</td>\n",
       "      <td>0.0</td>\n",
       "      <td>25.0</td>\n",
       "      <td>0.0</td>\n",
       "      <td>7.0</td>\n",
       "      <td>0.0</td>\n",
       "      <td>1.0</td>\n",
       "      <td>0.0</td>\n",
       "      <td>6.0</td>\n",
       "      <td>0.0</td>\n",
       "      <td>1.0</td>\n",
       "      <td>0.0</td>\n",
       "      <td>0.0</td>\n",
       "      <td>1.0</td>\n",
       "      <td>1.0</td>\n",
       "    </tr>\n",
       "    <tr>\n",
       "      <th>2</th>\n",
       "      <td>0.0</td>\n",
       "      <td>5.0</td>\n",
       "      <td>1.0</td>\n",
       "      <td>28.0</td>\n",
       "      <td>1.0</td>\n",
       "      <td>9.0</td>\n",
       "      <td>1.0</td>\n",
       "      <td>8.0</td>\n",
       "      <td>0.0</td>\n",
       "      <td>4.0</td>\n",
       "      <td>1.0</td>\n",
       "      <td>0.0</td>\n",
       "      <td>0.0</td>\n",
       "      <td>0.0</td>\n",
       "      <td>1.0</td>\n",
       "      <td>0.0</td>\n",
       "    </tr>\n",
       "    <tr>\n",
       "      <th>3</th>\n",
       "      <td>0.0</td>\n",
       "      <td>2.0</td>\n",
       "      <td>1.0</td>\n",
       "      <td>27.0</td>\n",
       "      <td>0.0</td>\n",
       "      <td>11.0</td>\n",
       "      <td>0.0</td>\n",
       "      <td>6.0</td>\n",
       "      <td>0.0</td>\n",
       "      <td>3.0</td>\n",
       "      <td>1.0</td>\n",
       "      <td>1.0</td>\n",
       "      <td>0.0</td>\n",
       "      <td>0.0</td>\n",
       "      <td>0.0</td>\n",
       "      <td>0.0</td>\n",
       "    </tr>\n",
       "    <tr>\n",
       "      <th>4</th>\n",
       "      <td>0.0</td>\n",
       "      <td>2.0</td>\n",
       "      <td>1.0</td>\n",
       "      <td>24.0</td>\n",
       "      <td>1.0</td>\n",
       "      <td>11.0</td>\n",
       "      <td>0.0</td>\n",
       "      <td>4.0</td>\n",
       "      <td>0.0</td>\n",
       "      <td>5.0</td>\n",
       "      <td>1.0</td>\n",
       "      <td>1.0</td>\n",
       "      <td>0.0</td>\n",
       "      <td>0.0</td>\n",
       "      <td>0.0</td>\n",
       "      <td>0.0</td>\n",
       "    </tr>\n",
       "    <tr>\n",
       "      <th>...</th>\n",
       "      <td>...</td>\n",
       "      <td>...</td>\n",
       "      <td>...</td>\n",
       "      <td>...</td>\n",
       "      <td>...</td>\n",
       "      <td>...</td>\n",
       "      <td>...</td>\n",
       "      <td>...</td>\n",
       "      <td>...</td>\n",
       "      <td>...</td>\n",
       "      <td>...</td>\n",
       "      <td>...</td>\n",
       "      <td>...</td>\n",
       "      <td>...</td>\n",
       "      <td>...</td>\n",
       "      <td>...</td>\n",
       "    </tr>\n",
       "    <tr>\n",
       "      <th>465629</th>\n",
       "      <td>2.0</td>\n",
       "      <td>3.0</td>\n",
       "      <td>1.0</td>\n",
       "      <td>21.0</td>\n",
       "      <td>1.0</td>\n",
       "      <td>13.0</td>\n",
       "      <td>0.0</td>\n",
       "      <td>5.0</td>\n",
       "      <td>0.0</td>\n",
       "      <td>4.0</td>\n",
       "      <td>1.0</td>\n",
       "      <td>1.0</td>\n",
       "      <td>1.0</td>\n",
       "      <td>0.0</td>\n",
       "      <td>0.0</td>\n",
       "      <td>1.0</td>\n",
       "    </tr>\n",
       "    <tr>\n",
       "      <th>465630</th>\n",
       "      <td>2.0</td>\n",
       "      <td>4.0</td>\n",
       "      <td>1.0</td>\n",
       "      <td>29.0</td>\n",
       "      <td>1.0</td>\n",
       "      <td>10.0</td>\n",
       "      <td>1.0</td>\n",
       "      <td>3.0</td>\n",
       "      <td>0.0</td>\n",
       "      <td>6.0</td>\n",
       "      <td>1.0</td>\n",
       "      <td>1.0</td>\n",
       "      <td>0.0</td>\n",
       "      <td>0.0</td>\n",
       "      <td>0.0</td>\n",
       "      <td>1.0</td>\n",
       "    </tr>\n",
       "    <tr>\n",
       "      <th>465631</th>\n",
       "      <td>2.0</td>\n",
       "      <td>4.0</td>\n",
       "      <td>1.0</td>\n",
       "      <td>29.0</td>\n",
       "      <td>1.0</td>\n",
       "      <td>11.0</td>\n",
       "      <td>1.0</td>\n",
       "      <td>4.0</td>\n",
       "      <td>0.0</td>\n",
       "      <td>3.0</td>\n",
       "      <td>1.0</td>\n",
       "      <td>0.0</td>\n",
       "      <td>0.0</td>\n",
       "      <td>0.0</td>\n",
       "      <td>1.0</td>\n",
       "      <td>1.0</td>\n",
       "    </tr>\n",
       "    <tr>\n",
       "      <th>465632</th>\n",
       "      <td>2.0</td>\n",
       "      <td>3.0</td>\n",
       "      <td>0.0</td>\n",
       "      <td>31.0</td>\n",
       "      <td>0.0</td>\n",
       "      <td>11.0</td>\n",
       "      <td>1.0</td>\n",
       "      <td>8.0</td>\n",
       "      <td>1.0</td>\n",
       "      <td>6.0</td>\n",
       "      <td>1.0</td>\n",
       "      <td>1.0</td>\n",
       "      <td>1.0</td>\n",
       "      <td>0.0</td>\n",
       "      <td>0.0</td>\n",
       "      <td>0.0</td>\n",
       "    </tr>\n",
       "    <tr>\n",
       "      <th>465633</th>\n",
       "      <td>2.0</td>\n",
       "      <td>5.0</td>\n",
       "      <td>1.0</td>\n",
       "      <td>27.0</td>\n",
       "      <td>1.0</td>\n",
       "      <td>8.0</td>\n",
       "      <td>1.0</td>\n",
       "      <td>3.0</td>\n",
       "      <td>0.0</td>\n",
       "      <td>4.0</td>\n",
       "      <td>1.0</td>\n",
       "      <td>0.0</td>\n",
       "      <td>0.0</td>\n",
       "      <td>0.0</td>\n",
       "      <td>1.0</td>\n",
       "      <td>1.0</td>\n",
       "    </tr>\n",
       "  </tbody>\n",
       "</table>\n",
       "<p>465634 rows × 16 columns</p>\n",
       "</div>"
      ],
      "text/plain": [
       "        Diabetes_012  GenHlth  HighBP   BMI  HighChol   Age  DiffWalk  Income  \\\n",
       "0                0.0      5.0     1.0  40.0       1.0   9.0       1.0     3.0   \n",
       "1                0.0      3.0     0.0  25.0       0.0   7.0       0.0     1.0   \n",
       "2                0.0      5.0     1.0  28.0       1.0   9.0       1.0     8.0   \n",
       "3                0.0      2.0     1.0  27.0       0.0  11.0       0.0     6.0   \n",
       "4                0.0      2.0     1.0  24.0       1.0  11.0       0.0     4.0   \n",
       "...              ...      ...     ...   ...       ...   ...       ...     ...   \n",
       "465629           2.0      3.0     1.0  21.0       1.0  13.0       0.0     5.0   \n",
       "465630           2.0      4.0     1.0  29.0       1.0  10.0       1.0     3.0   \n",
       "465631           2.0      4.0     1.0  29.0       1.0  11.0       1.0     4.0   \n",
       "465632           2.0      3.0     0.0  31.0       0.0  11.0       1.0     8.0   \n",
       "465633           2.0      5.0     1.0  27.0       1.0   8.0       1.0     3.0   \n",
       "\n",
       "        HeartDiseaseorAttack  Education  CholCheck  PhysActivity  Stroke  \\\n",
       "0                        0.0        4.0        1.0           0.0     0.0   \n",
       "1                        0.0        6.0        0.0           1.0     0.0   \n",
       "2                        0.0        4.0        1.0           0.0     0.0   \n",
       "3                        0.0        3.0        1.0           1.0     0.0   \n",
       "4                        0.0        5.0        1.0           1.0     0.0   \n",
       "...                      ...        ...        ...           ...     ...   \n",
       "465629                   0.0        4.0        1.0           1.0     1.0   \n",
       "465630                   0.0        6.0        1.0           1.0     0.0   \n",
       "465631                   0.0        3.0        1.0           0.0     0.0   \n",
       "465632                   1.0        6.0        1.0           1.0     1.0   \n",
       "465633                   0.0        4.0        1.0           0.0     0.0   \n",
       "\n",
       "        HvyAlcoholConsump  NoDocbcCost  Smoker  \n",
       "0                     0.0          0.0     1.0  \n",
       "1                     0.0          1.0     1.0  \n",
       "2                     0.0          1.0     0.0  \n",
       "3                     0.0          0.0     0.0  \n",
       "4                     0.0          0.0     0.0  \n",
       "...                   ...          ...     ...  \n",
       "465629                0.0          0.0     1.0  \n",
       "465630                0.0          0.0     1.0  \n",
       "465631                0.0          1.0     1.0  \n",
       "465632                0.0          0.0     0.0  \n",
       "465633                0.0          1.0     1.0  \n",
       "\n",
       "[465634 rows x 16 columns]"
      ]
     },
     "execution_count": 139,
     "metadata": {},
     "output_type": "execute_result"
    }
   ],
   "source": [
    "df"
   ]
  },
  {
   "cell_type": "markdown",
   "id": "d2d60d1c",
   "metadata": {},
   "source": [
    "From the graph shown below, is actually showing the answer that we have, which to get the best indication of diabetes. We can see that on the very bottom, there is feature \"smoker\" which means that for those who are smoker has lowest chances to get diabetes compared to the other features. Meanwhile, on the very top, we can see that there is feature \"gen\" which means that genetical is the factor that has highest probability of getting diabetes also compared to the other features or factors based on this data  "
   ]
  },
  {
   "cell_type": "code",
   "execution_count": 150,
   "id": "4ace28b6",
   "metadata": {},
   "outputs": [
    {
     "name": "stdout",
     "output_type": "stream",
     "text": [
      "Feature 0: 17698.352621\n",
      "Feature 1: 15385.781555\n",
      "Feature 2: 10368.548842\n",
      "Feature 3: 9999.437184\n",
      "Feature 4: 9562.715523\n",
      "Feature 5: 7400.950243\n",
      "Feature 6: 4719.638972\n",
      "Feature 7: 4508.284818\n",
      "Feature 8: 2507.955915\n",
      "Feature 9: 2106.008291\n",
      "Feature 10: 2002.432422\n",
      "Feature 11: 1585.937032\n",
      "Feature 12: 1100.738687\n",
      "Feature 13: 484.182167\n",
      "Feature 14: 475.620359\n"
     ]
    },
    {
     "data": {
      "text/plain": [
       "[Text(0.5, 1.0, 'ANOVA for Features')]"
      ]
     },
     "execution_count": 150,
     "metadata": {},
     "output_type": "execute_result"
    },
    {
     "data": {
      "image/png": "[encoded data removed]",
      "text/plain": [
       "<Figure size 1080x1080 with 1 Axes>"
      ]
     },
     "metadata": {
      "needs_background": "light"
     },
     "output_type": "display_data"
    }
   ],
   "source": [
    "# Split data into input and outputs\n",
    "X, y = df.iloc[:, 1:], df[\"Diabetes_012\"]\n",
    "XColumns = X.columns\n",
    "\n",
    "# Split into train and test sets\n",
    "X_train, X_test, y_train, y_test = train_test_split(X, y, test_size=0.33, random_state=1)\n",
    "\n",
    "# Feature selection\n",
    "X_train_fs, X_test_fs, fs = select_features(X_train, y_train, X_test, order=f_classif)\n",
    "\n",
    "# Print scores for the features\n",
    "for i in range(len(fs.scores_)):\n",
    "\tprint('Feature %d: %f' % (i, fs.scores_[i]))\n",
    "\n",
    "# Plot the scores\n",
    "plt.figure(figsize=(15,15))\n",
    "sns.barplot(x=pd.Series([scr for scr in fs.scores_], name=\"Score\"), y=pd.Series(XColumns, name=\"Feature\"), orient=\"h\", width=0.9).set(title='ANOVA for Features')"
   ]
  }
 ],
 "metadata": {
  "kernelspec": {
   "display_name": "Python 3 (ipykernel)",
   "language": "python",
   "name": "python3"
  },
  "language_info": {
   "codemirror_mode": {
    "name": "ipython",
    "version": 3
   },
   "file_extension": ".py",
   "mimetype": "text/x-python",
   "name": "python",
   "nbconvert_exporter": "python",
   "pygments_lexer": "ipython3",
   "version": "3.10.5"
  }
 },
 "nbformat": 4,
 "nbformat_minor": 5
}
